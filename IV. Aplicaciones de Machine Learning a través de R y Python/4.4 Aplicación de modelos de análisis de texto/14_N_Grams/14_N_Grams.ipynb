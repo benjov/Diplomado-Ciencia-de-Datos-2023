{
 "cells": [
  {
   "cell_type": "markdown",
   "metadata": {
    "id": "4r_BauLgoDU0"
   },
   "source": [
    "\n",
    "# INTRODUCCIÓN\n",
    "---\n",
    "\n",
    "**MODELOS DE LENGUAJE Y PREDICCIÓN DE PALABRAS**\n",
    "\n",
    "\n",
    "*Tipos de modelos de lenguaje*: Existen principalmente dos tipos de modelos de\n",
    "lenguaje:\n",
    "\n",
    "*   *Modelos de lenguaje estadístico:* estos modelos utilizan técnicas estadísticas tradicionales como N-gramas, modelos ocultos de Markov (HMM) y ciertas reglas lingüísticas para aprender la distribución de probabilidad de las palabras\n",
    "\n",
    "*   *Modelos de lenguaje neuronal:* utilizan diferentes tipos de redes neuronales para modelar el lenguaje.\n",
    "\n",
    "En este cuaderno abordaremos los modelos de lenguaje estadístico.\n",
    "\n",
    "**INFERENCIA ESTADÍSTICA: modelos de n-gramas**\n",
    "\n",
    "La inferencia estadística en general consiste en tomar algunos datos, generados según alguna distribución de probabilidad desconocida, y hacer algunas inferencias sobre esta distribución.\n",
    "\n",
    "\n",
    "## MODELADO DE LENGUAJE\n",
    "\n",
    "---\n",
    "\n",
    "Un modelo de lenguaje aprende a predecir la probabilidad de una secuencia de palabras dado un conjunto de palabras previas. \n",
    "\n",
    "Esta tarea es fundamental para reconocimiento de voz, reconocimiento óptico de caracteres, corrección ortográfica, traducción automática, entre otras.\n",
    "\n",
    "*   **PREDICCIÓN DE LA SIGUIENTE PALABRA:**\n",
    "Lo que se intenta es calcular la función de probabilidad $P$\n",
    "\n",
    "$$P(W_n / W_1, \\ldots, W_{n-1})$$\n",
    "\n",
    "Por ejemplo, en un modelo de bigramas buscaremos predecir la siguiente palabra a partir de la función de probabilidades de exactamente la palabra anterior.\n",
    "\n",
    "Se utiliza la clasificaicón de las palabras previas, aunque debe considerarse que existen secuencias de palabras que no se encuentren en el historial, para obtener predicciones razonables dado este problema se agrupan segmentos históricos similares, utilizando la propiedad de Markov, que prioriza contextos locales.\n",
    "\n",
    "Los modelos basados en n-gramas utilizan secuencias de 2,3,4  palabras consecutivas.\n",
    "\n",
    "*   **ENFOQUE DE MAXIMA VEROSIMILITUD**\n",
    "\n",
    "Para obtener las probabilidade que nos permitan estimar la probabilidad de aparición de una parabra objetivos, es necesario calcular\n",
    "\n",
    "$$P(W_n | W_1, \\ldots, W_{n-1}) = \\frac{C(W_1, \\ldots, W_{n-1}, W_n)}{C(W_1, \\ldots, W_{n-1})}$$\n",
    "\n",
    "Donde C(⋅) es el conteo de las secuencias de palabras de longitud $n$, por ejemplo, $n=2$ (dos palabras), $n=3$ (tres palabras), así sucesivamente.\n",
    "\n",
    "Para calcular la probabilidad de una palabra $y$ dada una palabra previa $x$, se calcula el conteo de los bigramas  $C(xy)$ y se normaliza con todos los bigramas que comparten la primera palabra $x$, que es lo mismo que los unigramas de $x$\n",
    "\n",
    "\n",
    "*   **SENSIBILIDAD DE LOS MODELOS DE N-GRAMAS Y SUAVIZADO**\n",
    "\n",
    "Como otros modelos estadísticos, el modelo de n-gramas depende en gran medida  del conjunto de datos de entrenamiento. \n",
    "\n",
    "Lo que implica que las probabilidades codifican cuestiones específicas del conjunto de datos.\n",
    "\n",
    "Para atenuar el problema de enfrentarse a probabilidades cero de n-gramas, se usa un suavizado de las probabilidades del conjunto de datos, esto es, se corta un poco de la masa de probabilidades de los conteos mayores, y se traslada a las secuencias que no tienen conteos.\n",
    "\n",
    "**Suavizado de Laplace**\n",
    "\n",
    "Suavizado de Laplace o ley de Laplace es una técnica sencilla que consiste en proporcionar un poco del espacio de probabilidades a los eventos no vistos. \n",
    "\n",
    "Esto es, se usa la matriz de conteo, por ejemplo de bigramas, y se suma 1 a todos los conteos, para posteriormente normalizar en probabilidades, bigramas que no ocurrieron en el conjunto de datos al menos tendrán una ocurrencia usando suavizado de Laplace. \n",
    "\n",
    "La probabilidad ajustada sería como sigue, donde se requiere ajustar agregando el tamaño del vocabulario V.\n",
    "_________________________"
   ]
  },
  {
   "cell_type": "code",
   "execution_count": 44,
   "metadata": {
    "id": "T_ZwyQpXgUu_"
   },
   "outputs": [],
   "source": [
    "# Dependencies\n",
    "import re\n",
    "import pandas as pd\n",
    "\n",
    "#\n",
    "import warnings\n",
    "warnings.filterwarnings('ignore')"
   ]
  },
  {
   "cell_type": "code",
   "execution_count": 1,
   "metadata": {},
   "outputs": [
    {
     "data": {
      "text/plain": [
       "'Clases '"
      ]
     },
     "execution_count": 1,
     "metadata": {},
     "output_type": "execute_result"
    }
   ],
   "source": [
    "# De texto a n-gramas\n",
    "\n",
    "Texto = \"¿Clases en sábado?\"\n",
    "\n",
    "Texto[1:8]"
   ]
  },
  {
   "cell_type": "code",
   "execution_count": 5,
   "metadata": {},
   "outputs": [
    {
     "data": {
      "text/plain": [
       "'¿Cl'"
      ]
     },
     "execution_count": 5,
     "metadata": {},
     "output_type": "execute_result"
    }
   ],
   "source": [
    "#\n",
    "Texto[ : 3]"
   ]
  },
  {
   "cell_type": "code",
   "execution_count": 6,
   "metadata": {},
   "outputs": [
    {
     "data": {
      "text/plain": [
       "'ases en sábado?'"
      ]
     },
     "execution_count": 6,
     "metadata": {},
     "output_type": "execute_result"
    }
   ],
   "source": [
    "#\n",
    "Texto[3 : ]"
   ]
  },
  {
   "cell_type": "code",
   "execution_count": 7,
   "metadata": {},
   "outputs": [
    {
     "data": {
      "text/plain": [
       "'¿Clases en sábado'"
      ]
     },
     "execution_count": 7,
     "metadata": {},
     "output_type": "execute_result"
    }
   ],
   "source": [
    "#\n",
    "Texto[ : -1]"
   ]
  },
  {
   "cell_type": "code",
   "execution_count": 25,
   "metadata": {},
   "outputs": [
    {
     "data": {
      "text/plain": [
       "'it was the best of times it was the worst of times, it was the age of wisdom it was the age of foolishness'"
      ]
     },
     "execution_count": 25,
     "metadata": {},
     "output_type": "execute_result"
    }
   ],
   "source": [
    "# Podemos utilizar esta técnica para tomar un número predeterminado de palabras vecinas \n",
    "\n",
    "cadenaPalabras = 'it was the best of times it was the worst of times, '\n",
    "\n",
    "cadenaPalabras += 'it was the age of wisdom it was the age of foolishness'\n",
    "\n",
    "cadenaPalabras"
   ]
  },
  {
   "cell_type": "code",
   "execution_count": 12,
   "metadata": {},
   "outputs": [
    {
     "data": {
      "text/plain": [
       "'Clases lunes a viernes siempreXXXoooXXX 1 2 3'"
      ]
     },
     "execution_count": 12,
     "metadata": {},
     "output_type": "execute_result"
    }
   ],
   "source": [
    "# Texto\n",
    "\n",
    "Texto = 'Clases lunes a viernes' \\\n",
    "        ' siempre' \\\n",
    "        'XXXoooXXX ' \\\n",
    "        '1 2 3'\n",
    "\n",
    "Texto"
   ]
  },
  {
   "cell_type": "code",
   "execution_count": 26,
   "metadata": {},
   "outputs": [],
   "source": [
    "#\n",
    "\n",
    "listaPalabras = cadenaPalabras.split()"
   ]
  },
  {
   "cell_type": "code",
   "execution_count": 27,
   "metadata": {},
   "outputs": [
    {
     "data": {
      "text/plain": [
       "['it',\n",
       " 'was',\n",
       " 'the',\n",
       " 'best',\n",
       " 'of',\n",
       " 'times',\n",
       " 'it',\n",
       " 'was',\n",
       " 'the',\n",
       " 'worst',\n",
       " 'of',\n",
       " 'times,',\n",
       " 'it',\n",
       " 'was',\n",
       " 'the',\n",
       " 'age',\n",
       " 'of',\n",
       " 'wisdom',\n",
       " 'it',\n",
       " 'was',\n",
       " 'the',\n",
       " 'age',\n",
       " 'of',\n",
       " 'foolishness']"
      ]
     },
     "execution_count": 27,
     "metadata": {},
     "output_type": "execute_result"
    }
   ],
   "source": [
    "#\n",
    "\n",
    "listaPalabras[ : ]"
   ]
  },
  {
   "cell_type": "code",
   "execution_count": 18,
   "metadata": {},
   "outputs": [
    {
     "data": {
      "text/plain": [
       "['of',\n",
       " 'times',\n",
       " 'it',\n",
       " 'was',\n",
       " 'the',\n",
       " 'age',\n",
       " 'of',\n",
       " 'wisdom',\n",
       " 'it',\n",
       " 'was',\n",
       " 'the',\n",
       " 'age',\n",
       " 'of',\n",
       " 'foolishness']"
      ]
     },
     "execution_count": 18,
     "metadata": {},
     "output_type": "execute_result"
    }
   ],
   "source": [
    "#\n",
    "listaPalabras[ 10 : ]"
   ]
  },
  {
   "cell_type": "code",
   "execution_count": 19,
   "metadata": {},
   "outputs": [
    {
     "data": {
      "text/plain": [
       "['best', 'of', 'times', 'it', 'was', 'the', 'worst']"
      ]
     },
     "execution_count": 19,
     "metadata": {},
     "output_type": "execute_result"
    }
   ],
   "source": [
    "#\n",
    "\n",
    "listaPalabras[3:10]"
   ]
  },
  {
   "cell_type": "code",
   "execution_count": 24,
   "metadata": {},
   "outputs": [
    {
     "data": {
      "text/plain": [
       "'es'"
      ]
     },
     "execution_count": 24,
     "metadata": {},
     "output_type": "execute_result"
    }
   ],
   "source": [
    "# Ejercicio....\n",
    "\n",
    "listaPalabras[3][ 1:3 ]"
   ]
  },
  {
   "cell_type": "markdown",
   "metadata": {},
   "source": [
    "#### Dada una lista de palabras y un número n, recupera una lista # de n-gramas.\n"
   ]
  },
  {
   "cell_type": "code",
   "execution_count": 31,
   "metadata": {},
   "outputs": [],
   "source": [
    "# Function:\n",
    "\n",
    "def obtenNGramas(Lista_Palabras, n):\n",
    "    return [ Lista_Palabras[ i : i + n ] for i in range( len( Lista_Palabras ) - ( n - 1 ) ) ]\n",
    "# lista por comprensión para mantener el código compacto"
   ]
  },
  {
   "cell_type": "code",
   "execution_count": 32,
   "metadata": {},
   "outputs": [
    {
     "data": {
      "text/plain": [
       "[['it', 'was'],\n",
       " ['was', 'the'],\n",
       " ['the', 'best'],\n",
       " ['best', 'of'],\n",
       " ['of', 'times'],\n",
       " ['times', 'it'],\n",
       " ['it', 'was'],\n",
       " ['was', 'the'],\n",
       " ['the', 'worst'],\n",
       " ['worst', 'of'],\n",
       " ['of', 'times,'],\n",
       " ['times,', 'it'],\n",
       " ['it', 'was'],\n",
       " ['was', 'the'],\n",
       " ['the', 'age'],\n",
       " ['age', 'of'],\n",
       " ['of', 'wisdom'],\n",
       " ['wisdom', 'it'],\n",
       " ['it', 'was'],\n",
       " ['was', 'the'],\n",
       " ['the', 'age'],\n",
       " ['age', 'of'],\n",
       " ['of', 'foolishness']]"
      ]
     },
     "execution_count": 32,
     "metadata": {},
     "output_type": "execute_result"
    }
   ],
   "source": [
    "obtenNGramas(listaPalabras, 2)"
   ]
  },
  {
   "cell_type": "code",
   "execution_count": 28,
   "metadata": {},
   "outputs": [],
   "source": [
    "# Alternativamente:\n",
    "\n",
    "def obtenNGramas(Lista_Palabras, n):\n",
    "    ngramas = []\n",
    "    for i in range( len(Lista_Palabras) - (n - 1) ):\n",
    "        ngramas.append( Lista_Palabras[ i : i + n ])\n",
    "    return ngramas"
   ]
  },
  {
   "cell_type": "code",
   "execution_count": 29,
   "metadata": {},
   "outputs": [
    {
     "data": {
      "text/plain": [
       "[['it', 'was'],\n",
       " ['was', 'the'],\n",
       " ['the', 'best'],\n",
       " ['best', 'of'],\n",
       " ['of', 'times'],\n",
       " ['times', 'it'],\n",
       " ['it', 'was'],\n",
       " ['was', 'the'],\n",
       " ['the', 'worst'],\n",
       " ['worst', 'of'],\n",
       " ['of', 'times,'],\n",
       " ['times,', 'it'],\n",
       " ['it', 'was'],\n",
       " ['was', 'the'],\n",
       " ['the', 'age'],\n",
       " ['age', 'of'],\n",
       " ['of', 'wisdom'],\n",
       " ['wisdom', 'it'],\n",
       " ['it', 'was'],\n",
       " ['was', 'the'],\n",
       " ['the', 'age'],\n",
       " ['age', 'of'],\n",
       " ['of', 'foolishness']]"
      ]
     },
     "execution_count": 29,
     "metadata": {},
     "output_type": "execute_result"
    }
   ],
   "source": [
    "obtenNGramas(listaPalabras, 2)"
   ]
  },
  {
   "cell_type": "code",
   "execution_count": 30,
   "metadata": {},
   "outputs": [
    {
     "data": {
      "text/plain": [
       "['it',\n",
       " 'was',\n",
       " 'the',\n",
       " 'best',\n",
       " 'of',\n",
       " 'times',\n",
       " 'it',\n",
       " 'was',\n",
       " 'the',\n",
       " 'worst',\n",
       " 'of',\n",
       " 'times,',\n",
       " 'it',\n",
       " 'was',\n",
       " 'the',\n",
       " 'age',\n",
       " 'of',\n",
       " 'wisdom',\n",
       " 'it',\n",
       " 'was',\n",
       " 'the',\n",
       " 'age',\n",
       " 'of',\n",
       " 'foolishness']"
      ]
     },
     "execution_count": 30,
     "metadata": {},
     "output_type": "execute_result"
    }
   ],
   "source": [
    "listaPalabras"
   ]
  },
  {
   "cell_type": "markdown",
   "metadata": {},
   "source": [
    "*** Utiliza el que tenga más sentido para ti. ***"
   ]
  },
  {
   "cell_type": "code",
   "execution_count": 33,
   "metadata": {},
   "outputs": [
    {
     "data": {
      "text/plain": [
       "['it',\n",
       " 'was',\n",
       " 'the',\n",
       " 'best',\n",
       " 'of',\n",
       " 'times',\n",
       " 'it',\n",
       " 'was',\n",
       " 'the',\n",
       " 'worst',\n",
       " 'of',\n",
       " 'times,',\n",
       " 'it',\n",
       " 'was',\n",
       " 'the',\n",
       " 'age',\n",
       " 'of',\n",
       " 'wisdom',\n",
       " 'it',\n",
       " 'was',\n",
       " 'the',\n",
       " 'age',\n",
       " 'of',\n",
       " 'foolishness']"
      ]
     },
     "execution_count": 33,
     "metadata": {},
     "output_type": "execute_result"
    }
   ],
   "source": [
    "# Pongamos a trabajar nuestra función: obtenNGramas\n",
    "\n",
    "Frase = 'it was the best of times it was the worst of times '\n",
    "Frase += 'it was the age of wisdom it was the age of foolishness'\n",
    "\n",
    "todasMisPalabras = cadenaPalabras.split()\n",
    "\n",
    "todasMisPalabras"
   ]
  },
  {
   "cell_type": "code",
   "execution_count": 52,
   "metadata": {},
   "outputs": [
    {
     "data": {
      "text/plain": [
       "[['it', 'was'],\n",
       " ['was', 'the'],\n",
       " ['the', 'best'],\n",
       " ['best', 'of'],\n",
       " ['of', 'times'],\n",
       " ['times', 'it'],\n",
       " ['it', 'was'],\n",
       " ['was', 'the'],\n",
       " ['the', 'worst'],\n",
       " ['worst', 'of'],\n",
       " ['of', 'times,'],\n",
       " ['times,', 'it'],\n",
       " ['it', 'was'],\n",
       " ['was', 'the'],\n",
       " ['the', 'age'],\n",
       " ['age', 'of'],\n",
       " ['of', 'wisdom'],\n",
       " ['wisdom', 'it'],\n",
       " ['it', 'was'],\n",
       " ['was', 'the'],\n",
       " ['the', 'age'],\n",
       " ['age', 'of'],\n",
       " ['of', 'foolishness']]"
      ]
     },
     "execution_count": 52,
     "metadata": {},
     "output_type": "execute_result"
    }
   ],
   "source": [
    "#\n",
    "\n",
    "NGRAMAS = obtenNGramas( todasMisPalabras, 2 )\n",
    "\n",
    "NGRAMAS"
   ]
  },
  {
   "cell_type": "code",
   "execution_count": 53,
   "metadata": {},
   "outputs": [],
   "source": [
    "#[item for sublist in NGRAMAS for item in sublist]\n",
    "#pd.Series([item for sublist in NGRAMAS for item in sublist]).value_counts()"
   ]
  },
  {
   "cell_type": "code",
   "execution_count": 54,
   "metadata": {},
   "outputs": [
    {
     "data": {
      "text/plain": [
       "was            8\n",
       "the            8\n",
       "of             8\n",
       "it             7\n",
       "age            4\n",
       "best           2\n",
       "times          2\n",
       "worst          2\n",
       "times,         2\n",
       "wisdom         2\n",
       "foolishness    1\n",
       "Name: count, dtype: int64"
      ]
     },
     "execution_count": 54,
     "metadata": {},
     "output_type": "execute_result"
    }
   ],
   "source": [
    "# Calculando frecuencias\n",
    "\n",
    "grams_freq = pd.Series([item for sublist in NGRAMAS for item in sublist]).value_counts()\n",
    "\n",
    "grams_freq"
   ]
  },
  {
   "cell_type": "code",
   "execution_count": 55,
   "metadata": {},
   "outputs": [
    {
     "data": {
      "text/plain": [
       "was            0.173913\n",
       "the            0.173913\n",
       "of             0.173913\n",
       "it             0.152174\n",
       "age            0.086957\n",
       "best           0.043478\n",
       "times          0.043478\n",
       "worst          0.043478\n",
       "times,         0.043478\n",
       "wisdom         0.043478\n",
       "foolishness    0.021739\n",
       "Name: count, dtype: float64"
      ]
     },
     "execution_count": 55,
     "metadata": {},
     "output_type": "execute_result"
    }
   ],
   "source": [
    "# Calculando probabilidades\n",
    "\n",
    "grams_freq_prob = grams_freq / grams_freq.sum()\n",
    "\n",
    "grams_freq_prob"
   ]
  },
  {
   "cell_type": "markdown",
   "metadata": {},
   "source": [
    "## Entrenamiento de un modelo N-gram"
   ]
  },
  {
   "cell_type": "code",
   "execution_count": 59,
   "metadata": {},
   "outputs": [],
   "source": [
    "from nltk.util import pad_sequence\n",
    "from nltk.util import bigrams\n",
    "from nltk.util import ngrams\n",
    "from nltk.util import everygrams\n",
    "from nltk.lm.preprocessing import pad_both_ends\n",
    "from nltk.lm.preprocessing import flatten\n",
    "from nltk.lm.preprocessing import padded_everygram_pipeline\n",
    "from nltk import word_tokenize, sent_tokenize \n",
    "from nltk.tokenize import ToktokTokenizer\n",
    "from nltk.lm import MLE"
   ]
  },
  {
   "cell_type": "code",
   "execution_count": 56,
   "metadata": {},
   "outputs": [
    {
     "data": {
      "text/plain": [
       "' \\nVERSIÓN PÚBLICA \\nUnidad Administrativa que clasifica: \\nSecretaría Técnica \\nNúmero de acta y fecha en la que se aprobó por el Comité: \\nCOT-004-2023 – 25 de enero de 2023 \\nDescripción del documento: \\nVersión pública de la Versión Estenográfica de la primera sesión ordinaria del Pleno  de la \\nComisión Federal de Competencia Económica celebrada el cinco de enero de dos mil veintitrés. \\nTipo de información clasificada y fundamento legal: \\nInformación confidencial  \\nLa información testada e identificada con la letra B es confidencial en términos de los artículos 113, \\nfracción III, de la Ley Federal de Transparencia y Acceso a la Información Públi ca, 116, último párrafo, de \\nla Ley General de Transparencia y Acceso a la Información Públ ica, así como Cuadragésimo de \\nlos Lineamientos Generales en Materia de Clasificación y Desclasifica ción de la Información, así como para \\nla Elaboración de Versiones Públicas , en relación con los artículos   3, fracción IX, 124 y 125 de la Ley Federal \\nde Competencia Económica , toda vez que fue presentada con ese carácter a este sujeto obligado ten iendo \\nderecho a ello, en virtud de que puede causar un daño o perjuicio en la posición co mpetitiva de su titular \\nya que comprende hechos y actos de carácter económico y jurídico relativos a una pe rsona moral. \\nPeriodo de reserva: No aplica.  \\nPáginas que contienen información clasificada: \\n3. \\nFidel Gerardo Sierra Aranda \\nSecretario Técnico  \\nKarla Moctezuma Bautista \\nCoordinadora General de Acuerdos \\nSello Digital No. Certificado Fecha\\nJjxLHtJwCPNYeABHOUR+DdavJV43RHraM48a\\nMDc/FvmUWcSEPSjA2nt0gRm+lMrUoHUVWor5\\n/6L98KT/w3eobqQlRT4wuVpEJ/JU0asOJ9TlAeL\\nEs4GBNP9p/jQjdrGE20/9HTpijr7T3Bu7uhyWmW\\nCK92yPCgm84j11i++PfmwtzQmWrWwrRvjYRdV\\nAyvdRYFm7mq6CK/2+LsfkwL4Q9N1r8REZBnh7\\n9pfPBUZY7sJTGftkPz47KIq7mUkHw+WANSf2/J\\ngrdiPNdzStaS9OxoEdby14GeqQfpv4Eb4wSsm7\\nKrnR4M/0I3/qssFYQa1Hb7xWmxs/V86GMbMEq\\nSe0og==00001000000511731923 jueves, 26 de enero de 2023, 10:54 a. m. \\nFIDEL GERARDO SIERRA ARANDA\\nTU/N43tUS2mwTc1mR1QY87cvtO2rcwoP/Rxew\\nuF5rcMxRjXjpDfhPjom/u04w7mKHKJy15JX0J/uq\\n9DviB0V4BBEAfJXNMOInIxXG+ZEKswsOW19/S\\n4mv+uK89RoSOJcDqlSP2L6P+oechgUziAFc40P\\n1ejs8fS0PHdeDmBwMcyWujAhNtRuhTkdULBDV\\nZdCh9xznVT0+oZweAzWsapsfvi9cWI3XCZNZ9L\\nJla/Z40gfg4MA0kb0Qwh9eDBRBjyICvQmYRsj1\\nOQQ8ooyCai35WGkz8tU8lva+3++9kEwLvvudbK\\nbv2Hzd6s8gUVziCgZb1EZtcTpwHn4XQBS29AG\\nVg==00001000000510304919 miércoles, 25 de enero de 2023, 04:53 p. m. \\nKARLA MOCTEZUMA BAUTISTANúmero de Expediente: ART. 72 F II INCISO A 1A\\nNúmero de Páginas: 2VERSIÓN ESTENOGRÁFICA 1ª SESIÓN ORDINARIA DE PLENO DE 05 DE ENERO  DE 202 3 \\n1 ________________________________________________________________________________  \\nCOMISIÓN FEDERAL DE COMPETENCIA ECONÓMICA  \\n1ª. SESIÓN ORDINARIA DEL PLENO, CELEBRADA  \\nEL CINCO  DE ENERO  DE DOS MIL VEINTI TRÉS  \\nVERSIÓN ESTENOGRÁFICA  \\n__________________________________________________________________  \\nBrenda Gisela Hernández Ramírez (BGHR ): Buen a tarde . Hoy, cinco  de enero  de dos mil \\nveinti trés, siendo las trece  horas con  un minuto , de conformidad con lo establecido en el \\nartículo 18 de los Lineamientos para el funcionamiento del Pleno de esta Comisión Federal \\nde Competencia Económica, aprobados mediante Acuerdo  de nueve de septiembre de dos \\nmil veinti uno, celebramos de manera remota la sesión ordinaria número uno del Pleno de la \\nComisión Federal de Competencia Económica, a través de la plataforma electrónica \\n[Microsoft]  Teams .  \\nAntes de iniciar, debo señalar que esta sesión será pública con la versión estenog ráfica que \\nse publique en el sitio de Internet de la Comisión, en términos del artículo 47 de las \\nDisposiciones Regulatorias de la Ley Federal de Competencia E conómica y demás \\ndisposiciones jurídicas aplic ables.  \\nA continuación, c edo la palabra al Secretario Técnico  para que dé fe respecto de la \\ninvitación realizada a los Comisionados  para unirse a esta sesión remota  del Pleno , así como \\npara que dé cuenta de quiénes de ellos se encuentran incorporados . \\nFidel Gerardo Sierra Aranda (FGSA):  Gracias,  Comisionada Presidente.  \\nHago constar que realicé la invitación para incorporarse a esta sesión a cada uno de los \\nComisionados que conforman el Pleno de la Comisión Federal de Competencia Económica , \\na través de sus cuentas institucionales y utilizando como software Microsoft Teams .  \\nAsimismo, doy fe de que del audio o del vídeo de Microsoft Teams se advierte la \\nincorporación de los siguientes Comisionados a esta sesión remota: Brenda Gisela \\nHernández  Ramírez, quien actúa como Presidente de la Comisión, en términos del  artículo \\n19 de la Ley Federal de Competencia Económica; Andrea Mar ván Saltiel; Ana María \\nReséndiz Mora; José Eduardo Mendoza Contreras y Alejandro Faya Rodríguez.  \\nMuchas gracias.  \\nBGHR:  Gracias,  Secretario Técnico.  \\nEl Orden del Día de la presente sesión fue circulada con anterioridad a los i ntegrantes del \\nPleno que , a partir del trece de diciembre de dos mil veintidós, somos c inco, existiendo dos \\nvacantes .  \\nY aprovecho la oportunidad de dar la bienvenida a la Comisionada [Andrea] Marván [Sal tiel] \\na la primera sesión del Pleno en la que participa.  \\nAdicionalmente , pregunto a mis colegas  si ¿están de acuerdo en aprobar el Orden del Día \\no quisieran hacer alguna modificación?  \\n¿Comisionada [Andrea] Marván [Saltiel] ? VERSIÓN ESTENOGRÁFICA 1ª SESIÓN ORDINARIA DE PLENO DE 05 DE ENERO  DE 202 3 \\n2 Andrea Marván Saltiel (AMS):  Muchas gracias, Comisionada [Presidenta].  \\nMe gustaría hacer una modificación a la Orden del Día, específicamente  respecto  a los \\nAcuerdos relacionados con las investigaciones para determinar la existencia de barreras a \\nla competencia e insumos esenciales, toda vez que al respect o de estas dos  investigaciones \\nse está valorando la presentación de excusas.  Por lo tanto, les solicitaría que se b ajen del \\nOrden del Día . \\nBGHR:  Gracias, Comisionada [Andrea] Marván [Saltiel].  \\nPregunto al resto de Comisionados si ¿están de acuerdo en la modificación solicit ada?  \\nJosé Eduardo Mendoza Contreras (JEMC):  De acuerdo.  \\nBGHR:  Entiendo que el resto también  y, en consecuencia,  con el ajuste referido, inicio con \\nel desahogo de la Orden del Día.  \\nComo primer punto de la Orden del Día tenemos la presentación, discus ión y, en su caso,  \\naprobación  de las Actas correspondientes a la cuadragésima cuarta y cuad ragésima quinta \\nsesiones ordinaria del Pleno de  la Comisión Federal de Competencia Económica , \\ncelebradas el cinco y ocho de diciembre de dos mil dos (sic) [ veintidós ], respectivamente , \\nasí como la octava sesión excepcional del nueve de diciembre de dos mil veintidós .  \\nSi no tienen comentarios, les pediría que los Comisionados que estuvieron presentes en l as \\nsesiones correspondientes expresaran si están de acuerdo en la aprobación  de cada una \\nde ellas, para lo cual las iré  mencionado en lo individual y le  pido al Secretario Técnico que \\ndé fe de la misma forma.  \\nRespecto del Acta correspondiente a la cuadragésima cuarta sesión ordinaria, celebrada el \\ncinco de diciembre de dos mil veintidós.  \\nAlejandro Faya Rodríguez  (AFR ): Alejandro Faya Rodríguez , a favor.  \\nJEMC:  José Eduardo Mendoza Contreras, a favor.  \\nAna María Reséndiz Mora  (AMRM ): Ana María Reséndiz Mora, a favor.  \\nBGHR:  Brenda Gisela Hernández Ramírez, a favor.  \\nFGSA:  Doy cuenta de que existe unanimidad de cuatro votos por aprobar el Acta \\ncorrespondiente a la cuadragésim [a] cuarta sesión ordinaria  del Pleno  de la Comisión , \\ncelebrada el cinco de diciembre de dos mil veintidós . \\nBGHR:  Respecto del Acta correspondiente a la cuadragésima quinta sesión ordinaria , \\ncelebrada el ocho de diciembre de dos mil veintidós.  \\nAFR:  Alejandro Faya Rodríguez, a favor.  \\nJEMC:  José Eduardo Mendoza Contreras, a favor.  \\nAMRM:  Ana María Reséndiz Mora, a favor.  \\nBGHR:  Brenda Gisela Hernández Ramírez, a favor.  \\nFGSA:  Doy cuenta de que existe unanimidad de cuatro votos por aprobar el Acta \\ncorrespondiente a la cuadragésim [a] quinta  sesión ordinaria del Pleno  de la Comisión , \\ncelebrada el ocho  de diciembre de dos mil veintidós.  VERSIÓN ESTENOGRÁFICA 1ª SESIÓN ORDINARIA DE PLENO DE 05 DE ENERO  DE 202 3 \\n3 BGHR: Respecto del Acta correspondiente a la octava  sesión excepcional  del nueve  de \\ndiciembre de dos mil veintidós.  \\nAFR:  Alejandro Faya Rodríguez, a favor.  \\nJEMC:  José Eduardo Mendoza Contreras, a favor.  \\nAMRM:  Ana María Reséndiz Mora, a favor.  \\nBGHR:  Brenda  Gisela Hernández Ramírez, a favor.  \\nFGSA:  Doy cuenta de que existe  también  unanimidad de cuatro votos por aprobar el Acta \\ncorrespondiente a la octava sesión excepcional del Pleno de la Comisión, celebrada e l \\nnueve de diciembre de dos mil veintidós.  \\nBGHR:  Como segundo punto de la Orden del Día  tenemos la presentación, discusión  y, en \\nsu caso, resolución sobre la concentración entre Dufry AG; Schema Beta S.p.A . y Edizione \\nS.p.A ., que corresponde al expedien te CNT-139-2022  y cedo la palabra al Comisionado \\nPonente José Eduardo Mendoza Contreras . \\nJEMC:  Gracias, Comisionada Presidenta . \\nLa operación notificada  consiste en : [i] la cesión por parte de Schema Beta [S.p.A  (“Schema \\nBeta”) ] del  de las acciones de Autogrill [S.p.A  (“Autogrill”) ]  \\n [ii] la emisión y \\nentrega a Schema Beta   \\n de las acciones de \\nDufry, a cambio de lo señalado en el punto anterior.  De manera posterior, Dufry  lanzará una \\noferta pública de adquisición obligatoria, de acuerdo con las normas de cotización i talianas, \\npara adquirir el resto de las acciones de Autogrill que cotizan en la bolsa itali ana. \\nLa operación actualiza la fracción III del artículo 86 de la Le y Federal de Competencia \\nEconómica ,  \\n y, en nuestra opinión, en la opinión de la ponencia, no \\nconstituyen un problema de competencia.   \\nEn la ponencia que se circuló está descrito con mayor precisión las actividade s de las partes \\ny también el análisis, digamos, de la transacción.  \\nPor todo lo anterior, esta Ponencia propone o recomienda autorizar esta operación.  \\nGracias.   \\nBGHR:  Muchas gracias, Comisionado [José Eduardo] Mendoza [Contreras].  \\nPregunto al resto de  Comisionados si ¿tienen algún comentario  relacionado con la ponencia \\nexpuesta ? \\nY si no  es así , les solicito que expresen  el sentido de su voto.  \\nAFR:  Alejandro Faya Rodríguez, a favor.  \\nJEMC:  José Eduardo Mendoza Contreras, a favor.  \\nAMRM:  Ana María Reséndiz Mora, a favor.  \\nBVERSIÓN ESTENOGRÁFICA 1ª SESIÓN ORDINARIA DE PLENO DE 05 DE ENERO  DE 202 3 \\n4 BGHR:  Brenda Gisela Hernández Ramírez, a favor.  \\nFGSA:  Doy cuenta de que existe unanimidad de c inco votos por  autorizar la concentración \\nidentificada con el número de expediente CNT-139-2022 , en los términos del proyecto de \\nresolución.  \\nBGHR:  Como tercer  y último punto de la Orden del Día  tenemos , derivado del ajuste de la \\nmisma , cuatro  Asunto s Generales.  \\nComo primer Asunto General tenemos  la presentación, discusión y, en su caso, aprobación \\ndel Acuerdo relativo a la reanudación del plazo  establecido en el artículo 138, fracción III , \\nde la Ley Federal de Competencia Económica, respecto del Anteproyecto de l os \\nLineamientos para la emisión de opiniones o resoluciones en el otorgamie nto de licencias, \\nconcesiones, permisos y análogos,  por medios electrónicos ante la Comisión Federal de \\nCompetencia Económica, y cedo la palabra al Secretario Técnico para que nos explique el  \\nAcuerdo que se somete a nuestra consideración.  \\nFGSA:  Gracias, Comisionada Presidente.  \\nEl veintiséis de noviembre de dos mil veintiuno , el Pleno de esta Comisión emitió un Acuerdo \\npor medio del cual, por falta de quorum  para resolver, determinó suspender el plazo al que \\nse refiere la fracción III del artículo 138 de la Ley Federal de Competencia Económica , \\nrespecto del Anteproyecto señalado  a partir de la emisión de ese Acuerdo y hasta que se \\ncontara con el número mínimo de Comisionados requerido para poder someter dicho \\ndocumento a votación . \\nEl trece de diciembre pasado, se llevó a cabo la ratificación de Andrea Marván Saltiel como \\nComisionad a de este órgano constitucional autónomo, con efectos a par tir de ese día.  Por \\nlo que, se considera que a partir de es a fecha ha dejado de darse la situación que impedía \\nseguir contando los plazos para resolver el caso señalado .  \\nPor tanto, se propone la e misión de este Acuerdo mediante el cual se indica que se reanuda \\nel plazo de sesenta días a que se refiere la fracción III del artículo 138 de la Ley [Federal de \\nCompetencia Económica] para emitir Lineamientos  con posterioridad a la consulta pública \\na que se sometió el Anteproyecto referido , al contar con el número mínimo de Comisionados \\nrequeridos para poder someter a votación el presente expediente, en términos d el artículo \\n18 de la Ley Federal de Competencia Económica . \\nMuchas gracias.  \\nBGHR:  Muchas gracias, Secretario… muchas gracias, Secretario  Técnico . \\nPregunto a mis colegas si ¿tienen algún comentario relacionado con el Acuerdo expuesto ? \\nY si no es así, les solicito que expresen el sentido de su voto.  \\nAFR:  Alejandro Faya Rodríguez, a favor del Acuerdo.  \\nJEMC:  José Eduardo Mendoza Contreras, a favor.  \\nAMRM:  Ana María Reséndiz Mora,  a favor.  \\nAMS:  Andrea Marván Saltiel, a favor.  \\nBGHR:  Brenda Gisela Hernández Ramírez, a favor.  \\nFGSA:  Doy cuenta de que existe unanimidad de cinco votos por emitir el Acuerdo , en los \\ntérminos señalados . VERSIÓN ESTENOGRÁFICA 1ª SESIÓN ORDINARIA DE PLENO DE 05 DE ENERO  DE 202 3 \\n5 BGHR:  Como segundo Asunto General  tenemos  la presentac ión, discusión y, en su caso, \\naprobación del Acuerdo relativo a la reanudación del plazo establecido en el artículo 138, \\nfracción III , de la Ley Federal de Competencia Económica, respecto del Anteproyecto de los \\nLineamientos para el uso de medios electrónicos durante la investig ación, la secuela del \\nprocedimiento, la verificación y los incidentes tramitados ante la Comisión Federa l de \\nCompetencia Económica  y cedo la palabra al Secretario Técnico para que nos explique el \\nAcuerdo que somete a nuestra  consideración.  \\nFGSA:  Muchas gracias, Comisionada Presidente.  \\nEn el mismo sentido que en el caso anterior, el veintiséis de noviembre de dos mil veintiuno , \\nel Pleno de la Comisión emitió un Acuerdo en el cual se suspendió el plazo al que se refiere \\nla fracción III del artículo 138 de la Ley [Federal de Competencia Económica ] para emitir los \\nLineamientos después de la consulta pública a que se sometió el Anteproyecto señalado y \\ndado que , el trece de diciembre de dos mil veintid ós, se ratificó a la Comisionada Andrea \\nMarván Saltiel como tal, se considera que  pues  ya existen condiciones para poder levantar \\nla suspensión.  \\nPor tanto, se somete a su consideración un Acuerdo en los mismos términos que en el caso \\nseñalado anteriormente .  \\nBGHR:  Muchas gracias, Secretario Técnico.  \\nPregunto a mis colegas si ¿tienen algún comentario relacionado con el acuerdo expuesto ? \\nDe lo contrario, les solicito que expresen el sentido de su voto.  \\nAFR:  Alejandro Faya Rodríguez, a favor.  \\nJEMC:  José Eduardo Mendoza Contreras, a favor.  \\nAMRM:  Ana María Reséndiz Mora, a favor.  \\nAMS:  Andrea Marván Saltiel, a favor.  \\nBGHR:  Brenda Gisela Hernández Ramírez, a favor.  \\nFGSA:  Doy cuenta de que existe unanimidad de cinco votos por emitir el Acuerdo , en los \\ntérminos señalados.  \\nBGHR:  Como tercer Asunto General tenemos  la solicitud de calificación de excusa \\npresentada el tres de enero del año en curso , por la Comisionada Andrea Marván Saltiel  \\npara conocer del expediente  VSP-002-2019 -I. Cedo la palabra a la Comisionada  [Andrea \\nMarván Saltiel ] para que nos explique el motivo de su excusa.  \\nAMS:  Muchas gracias, Comisionada [Presidenta].  \\nLa excusa o los principales motivos de la excusa ya los tiene n ustedes dado que se presentó \\npor escrito, pero se las presento a grandes rasgos.  \\nDurante el tiempo en el que ejercí como Directora General Adjunta y , posteriormente , \\nDirectora Ejecutiva del Staff [de la Autoridad Investigadora de la Comi sión Federal de \\nCompetencia Económica], mis labores fueron básicamente auxiliar al Titular de  la Autoridad \\nInvestigadora  en la tramitación de diversos expedientes . En específico, respe cto de este \\nexpediente , participé proponiendo sugerencias respecto a las estrategias de … planteadas \\nen la investigación y auxilié en la asesoría del Titular de la Autoridad Investig adora para la \\ntoma de decisiones relacionada con el expediente principal relacionado con este asunt o. VERSIÓN ESTENOGRÁFICA 1ª SESIÓN ORDINARIA DE PLENO DE 05 DE ENERO  DE 202 3 \\n6 Por lo tanto, someto a calificación de ustedes si se actualiza la excusa prevista e n el artículo \\n24 de la Ley Federal de Competencia Económica, en la fracción IV.  \\nBGHR:  Muchas gracias, Comisionada [Andrea] Marván [Saltiel].  \\nLe solicito, por favor, que salga de esta sesión virtual para poder deliberar sobre la excusa  \\npresentada y también le pido al Secretar io Técnico que una vez que la Comisionada \\n[Andrea] Marván [Saltiel] salga dé fe de dicha acción.  \\nAMS: Gracias.  \\nFGSA:  Comisionada Presidente, hago con star que la Comisionada Andrea Marván Saltiel  \\nsalió de la sala de sesiones . \\nBGHR:  Muchas gracias.  \\nLe pido a mis colegas que manifiesten si tienen algún comentario al respecto y  si no  que \\nemitan el sentido de su voto . \\nAFR:  Alejandro Faya Rodríguez, voto por la improcedencia de la excusa planteada.  \\nJEMC:  José Eduardo Mendoza Contreras, considero improce dente la excusa . \\nAMRM:  Ana María Reséndiz Mora, voto por la improcedencia . \\nBGHR:  Brenda Gisela Hernández Ramírez, considero procedente la excusa presentada , \\ntoda vez que la Comisionada [Andrea] Marván [Saltiel] señala en el escrito que fue \\npresentado que en ejercicio de sus funciones dentro de la Autoridad Investigadora  propuso \\nmejoras y realizó sugerencias respecto de las estrategias de investigación . Asimismo, \\ncolaboró en la toma de decisiones del Titular de la Autoridad Inves tigadora respecto del \\nexpediente DE -008-2016 del cual deriva el VSP [-002-2019 -I] ya referido.  \\nAdemás,  señala que realizó revisiones y análisis jurídico -económicos de diversas \\nactuaciones que deriva ron en acuerdos, oficios y dictámenes, entre otros, relacionados con \\ndicho expediente principal.  \\nEstimo que dichas circunstancias implican la existencia de hechos que la Ley Fe deral de \\nCompetencia Económica presume como generadores de un interés directo o indirecto al \\nhaber gestionado el asunto en favor de la Autoridad Investigadora, por tanto, se configura  y \\nactualiza la causal de l impedimento establecida en la fracción IV del artículo 24 de la Ley \\nFederal de Competencia Económica.  \\nAhora bien, como lo he sostenido en ocasiones anteriores, estimo que si un Comisionado \\ntiene imp edimento derivado de la sustanciación de un asunto en la etapa de  investigación, \\ndicho impedimento se extiende a los expedientes derivados. En específico, el  caso que \\nanalizó la Comisionada [Andrea Marván Saltiel] en el expediente DE -008-2016 se relaciona \\ncon el expediente VSP -002-2019 -I, es decir , el expediente incidental , en el cual la materia \\nes verificar el cumplimiento o incumplimiento de los compromisos contenidos en la \\nresolución emitida por el Pleno de la Comisión en el expediente DE -008-2016.  \\nEn este sentido, estimo procedente la solicitud de la Comisionada [Andrea M arván Saltiel] . \\nFGSA:  Entonces d oy cuenta de que existe mayoría  de tres votos , con voto en contra de la \\nComisionada [Presidenta] Brenda Gisela Hernández Ramírez , por considerar que resulta \\nimprocedente la excusa planteada por la Comisionada Andrea Marván Saltiel.  \\nBGHR:  Muchas gracias, Secretario Técnico.  VERSIÓN ESTENOGRÁFICA 1ª SESIÓN ORDINARIA DE PLENO DE 05 DE ENERO  DE 202 3 \\n7 Le pido, por favor, que integre a la sesión a la Comisionada [Andrea] Marván [Salti el] y dé \\nfe de lo anterior.  \\nFGSA:  Sí, Comisionada President e. \\nPermítame un segundo, no me está respondiendo la llamada.  \\nYa. \\nComisionada [Andrea] Marván [Saltiel]  ¿estás ahí?  \\nAMS:  Sí, estoy aquí.  \\nFGSA: Okay,  hago constar que regresó a la sala de sesiones la Comisionada Andrea  Marván \\nSaltiel.  \\nBGHR:  Muchas gracias.  \\nComo cuarto y último Asunto General tenemos la presentación, discusión y, e n su caso, \\naprobación del Acuerdo  por el que se emite el Manual que regula las remuneraciones de \\nlas personas servidoras públicas, y por el que se aprueba la estructura ocupacional de la  \\nComisión Federal de Competencia Económica y cedo la palabra al Secretario Técnico par a \\nque nos explique el Acuerdo que somete a nuestra consideración.  \\nFGSA:  Gracias, Comisionada Presidente.  \\nSe somete a su consideración la discusión y aprobación del Manual que regula las \\nremuneraciones de las personas servidoras públicas, y por el que se aprueba la estructur a \\nocupacional de la Comisión Federal de Competencia Económica para el ejercicio dos m il \\nveintitrés, esto deriva de la necesidad de dar cumplimiento a lo que establece e l artículo 21 \\ndel Presupuesto de Egresos de la Federación para el Ejercicio Fiscal 2023, que consiste  en \\nque los entes  autónomos deberán publicar en el Diario Oficial de la Federación , a más tardar \\nel último día hábil del mes de febrero , el Manual que regula las remuneraciones para los \\nservidores públicos a su servicio, en el que se propone la información completa y de tallada \\nrelativa a las remuneraciones que se c ubran para cada uno de los niveles jerárquicos que \\nlos conforman. Asimismo, deberán publicar en el Diario Oficial de la Federa ción, en la fecha \\nantes señalada, la estructura ocupacional que contenga la integración  de los recursos \\naprobados en el capítulo de servicios personales , con la desagregación de su plantilla total.  \\nMuchas gracias.  \\nBGHR:  Muchas gracias, Secretario Técnico.  \\nPregunto a mis colegas si ¿tienen algún comentario relacionado con el Acuerdo expuesto ?  \\nY si no es así, expresen el sentido de su voto.  \\nAFR:  Bueno , yo levanté la mano . Nada más para mayor certeza , es mí entendimiento y \\nentiendo que también es compartido por mis colegas Comisionados , que para el caso de \\nservidores públicos que … cuya s remuneraciones se estén pagando conforme a alguna \\nresolución judicial eso no impide que este Manual que estamos aproban do para dos mil \\nveintitrés si hay algunos conceptos o rubros que operen en su beneficio pues también se \\nles puedan aplicar ¿no?  así ent iendo que es la interpretación correcta y jurídicamente \\nprocedente .  \\nEntonces hay algunas sugerencias de engrose por s i hacen más claro el asunto , si no es \\nnecesario pues entonces se aplicaría  en esos términos.  VERSIÓN ESTENOGRÁFICA 1ª SESIÓN ORDINARIA DE PLENO DE 05 DE ENERO  DE 202 3 \\n8 Así lo entiendo ¿no?  \\nY… \\nBGHR:  Si no hay algún otro…  \\nAFR:  Okay .  \\nY yo voto a favor, nada más haciendo la aclaración de que, lo que respecta a mi esfera \\njurídica individual, me reservo cualquier medio de defensa frente a cualqui er acto de \\naplicación de este Manual que pudiera repercutir negativamente en mis derechos.  \\nGracias.  \\nJEMC:  José Eduardo Mendoza Contreras, al igual que el Comisionado [Alejandro] Faya \\n[Rodríguez], me reservo, o sea , voto a favor  del Manual sin menoscabo al ejercicio de mis \\nderechos jurídicos y humanos.  \\nGracias.  \\nAMRM : Ana María Reséndiz Mora, a favor  del Manual . \\nAMS:  Andrea Marván Saltiel, a favor.  \\nBGHR:  Brenda Gisela Hernández Ramírez, a favor.  \\nFGSA:  Doy cuenta de que existe unanimidad de cinco votos por emitir el Manual propuest o, \\nen los términos señalados.  \\nBGHR: No habiendo otro asunto que resolver, se da por concluida la presente sesi ón a las \\ntrece  horas con veintitrés  minutos del cinco  de enero  de dos mil veint itrés. \\nMuchas gracias.  \\nJEMC:  Gracias a todos.  \\nFGSA:  Muchas g racias, Comisionados .  '"
      ]
     },
     "execution_count": 56,
     "metadata": {},
     "output_type": "execute_result"
    }
   ],
   "source": [
    "# Abrir el archivo para lectura ('r' significa read)\n",
    "with open('VEP_20230105_1.txt', 'r') as archivo:\n",
    "    contenido = archivo.read()\n",
    "\n",
    "# Ahora 'contenido' es una cadena de texto con todo el contenido del archivo\n",
    "contenido"
   ]
  },
  {
   "cell_type": "code",
   "execution_count": 57,
   "metadata": {},
   "outputs": [
    {
     "data": {
      "text/plain": [
       "' \\nversión pública \\nunidad administrativa que clasifica: \\nsecretaría técnica \\nnúmero de acta y fecha en la que se aprobó por el comité: \\ncot-004-2023 – 25 de enero de 2023 \\ndescripción del documento: \\nversión pública de la versión estenográfica de la primera sesión ordinaria del pleno  de la \\ncomisión federal de competencia económica celebrada el cinco de enero de dos mil veintitrés. \\ntipo de información clasificada y fundamento legal: \\ninformación confidencial  \\nla información testada e identificada con la letra b es confidencial en términos de los artículos 113, \\nfracción iii, de la ley federal de transparencia y acceso a la información públi ca, 116, último párrafo, de \\nla ley general de transparencia y acceso a la información públ ica, así como cuadragésimo de \\nlos lineamientos generales en materia de clasificación y desclasifica ción de la información, así como para \\nla elaboración de versiones públicas , en relación con los artículos   3, fracción ix, 124 y 125 de la ley federal \\nde competencia económica , toda vez que fue presentada con ese carácter a este sujeto obligado ten iendo \\nderecho a ello, en virtud de que puede causar un daño o perjuicio en la posición co mpetitiva de su titular \\nya que comprende hechos y actos de carácter económico y jurídico relativos a una pe rsona moral. \\nperiodo de reserva: no aplica.  \\npáginas que contienen información clasificada: \\n3. \\nfidel gerardo sierra aranda \\nsecretario técnico  \\nkarla moctezuma bautista \\ncoordinadora general de acuerdos \\nsello digital no. certificado fecha\\njjxlhtjwcpnyeabhour+ddavjv43rhram48a\\nmdc/fvmuwcsepsja2nt0grm+lmruohuvwor5\\n/6l98kt/w3eobqqlrt4wuvpej/ju0asoj9tlael\\nes4gbnp9p/jqjdrge20/9htpijr7t3bu7uhywmw\\nck92ypcgm84j11i++pfmwtzqmwrwwrrvjyrdv\\nayvdryfm7mq6ck/2+lsfkwl4q9n1r8rezbnh7\\n9pfpbuzy7sjtgftkpz47kiq7mukhw+wansf2/j\\ngrdipndzstas9oxoedby14geqqfpv4eb4wssm7\\nkrnr4m/0i3/qssfyqa1hb7xwmxs/v86gmbmeq\\nse0og==00001000000511731923 jueves, 26 de enero de 2023, 10:54 a. m. \\nfidel gerardo sierra aranda\\ntu/n43tus2mwtc1mr1qy87cvto2rcwop/rxew\\nuf5rcmxrjxjpdfhpjom/u04w7mkhkjy15jx0j/uq\\n9dvib0v4bbeafjxnmoinixxg+zekswsow19/s\\n4mv+uk89rosojcdqlsp2l6p+oechguziafc40p\\n1ejs8fs0phdedmbwmcywujahntruhtkdulbdv\\nzdch9xznvt0+ozweazwsapsfvi9cwi3xcznz9l\\njla/z40gfg4ma0kb0qwh9edbrbjyicvqmyrsj1\\noqq8ooycai35wgkz8tu8lva+3++9kewlvvudbk\\nbv2hzd6s8guvzicgzb1eztctpwhn4xqbs29ag\\nvg==00001000000510304919 miércoles, 25 de enero de 2023, 04:53 p. m. \\nkarla moctezuma bautistanúmero de expediente: art. 72 f ii inciso a 1a\\nnúmero de páginas: 2versión estenográfica 1ª sesión ordinaria de pleno de 05 de enero  de 202 3 \\n1 ________________________________________________________________________________  \\ncomisión federal de competencia económica  \\n1ª. sesión ordinaria del pleno, celebrada  \\nel cinco  de enero  de dos mil veinti trés  \\nversión estenográfica  \\n__________________________________________________________________  \\nbrenda gisela hernández ramírez (bghr ): buen a tarde . hoy, cinco  de enero  de dos mil \\nveinti trés, siendo las trece  horas con  un minuto , de conformidad con lo establecido en el \\nartículo 18 de los lineamientos para el funcionamiento del pleno de esta comisión federal \\nde competencia económica, aprobados mediante acuerdo  de nueve de septiembre de dos \\nmil veinti uno, celebramos de manera remota la sesión ordinaria número uno del pleno de la \\ncomisión federal de competencia económica, a través de la plataforma electrónica \\n[microsoft]  teams .  \\nantes de iniciar, debo señalar que esta sesión será pública con la versión estenog ráfica que \\nse publique en el sitio de internet de la comisión, en términos del artículo 47 de las \\ndisposiciones regulatorias de la ley federal de competencia e conómica y demás \\ndisposiciones jurídicas aplic ables.  \\na continuación, c edo la palabra al secretario técnico  para que dé fe respecto de la \\ninvitación realizada a los comisionados  para unirse a esta sesión remota  del pleno , así como \\npara que dé cuenta de quiénes de ellos se encuentran incorporados . \\nfidel gerardo sierra aranda (fgsa):  gracias,  comisionada presidente.  \\nhago constar que realicé la invitación para incorporarse a esta sesión a cada uno de los \\ncomisionados que conforman el pleno de la comisión federal de competencia económica , \\na través de sus cuentas institucionales y utilizando como software microsoft teams .  \\nasimismo, doy fe de que del audio o del vídeo de microsoft teams se advierte la \\nincorporación de los siguientes comisionados a esta sesión remota: brenda gisela \\nhernández  ramírez, quien actúa como presidente de la comisión, en términos del  artículo \\n19 de la ley federal de competencia económica; andrea mar ván saltiel; ana maría \\nreséndiz mora; josé eduardo mendoza contreras y alejandro faya rodríguez.  \\nmuchas gracias.  \\nbghr:  gracias,  secretario técnico.  \\nel orden del día de la presente sesión fue circulada con anterioridad a los i ntegrantes del \\npleno que , a partir del trece de diciembre de dos mil veintidós, somos c inco, existiendo dos \\nvacantes .  \\ny aprovecho la oportunidad de dar la bienvenida a la comisionada [andrea] marván [sal tiel] \\na la primera sesión del pleno en la que participa.  \\nadicionalmente , pregunto a mis colegas  si ¿están de acuerdo en aprobar el orden del día \\no quisieran hacer alguna modificación?  \\n¿comisionada [andrea] marván [saltiel] ? versión estenográfica 1ª sesión ordinaria de pleno de 05 de enero  de 202 3 \\n2 andrea marván saltiel (ams):  muchas gracias, comisionada [presidenta].  \\nme gustaría hacer una modificación a la orden del día, específicamente  respecto  a los \\nacuerdos relacionados con las investigaciones para determinar la existencia de barreras a \\nla competencia e insumos esenciales, toda vez que al respect o de estas dos  investigaciones \\nse está valorando la presentación de excusas.  por lo tanto, les solicitaría que se b ajen del \\norden del día . \\nbghr:  gracias, comisionada [andrea] marván [saltiel].  \\npregunto al resto de comisionados si ¿están de acuerdo en la modificación solicit ada?  \\njosé eduardo mendoza contreras (jemc):  de acuerdo.  \\nbghr:  entiendo que el resto también  y, en consecuencia,  con el ajuste referido, inicio con \\nel desahogo de la orden del día.  \\ncomo primer punto de la orden del día tenemos la presentación, discus ión y, en su caso,  \\naprobación  de las actas correspondientes a la cuadragésima cuarta y cuad ragésima quinta \\nsesiones ordinaria del pleno de  la comisión federal de competencia económica , \\ncelebradas el cinco y ocho de diciembre de dos mil dos (sic) [ veintidós ], respectivamente , \\nasí como la octava sesión excepcional del nueve de diciembre de dos mil veintidós .  \\nsi no tienen comentarios, les pediría que los comisionados que estuvieron presentes en l as \\nsesiones correspondientes expresaran si están de acuerdo en la aprobación  de cada una \\nde ellas, para lo cual las iré  mencionado en lo individual y le  pido al secretario técnico que \\ndé fe de la misma forma.  \\nrespecto del acta correspondiente a la cuadragésima cuarta sesión ordinaria, celebrada el \\ncinco de diciembre de dos mil veintidós.  \\nalejandro faya rodríguez  (afr ): alejandro faya rodríguez , a favor.  \\njemc:  josé eduardo mendoza contreras, a favor.  \\nana maría reséndiz mora  (amrm ): ana maría reséndiz mora, a favor.  \\nbghr:  brenda gisela hernández ramírez, a favor.  \\nfgsa:  doy cuenta de que existe unanimidad de cuatro votos por aprobar el acta \\ncorrespondiente a la cuadragésim [a] cuarta sesión ordinaria  del pleno  de la comisión , \\ncelebrada el cinco de diciembre de dos mil veintidós . \\nbghr:  respecto del acta correspondiente a la cuadragésima quinta sesión ordinaria , \\ncelebrada el ocho de diciembre de dos mil veintidós.  \\nafr:  alejandro faya rodríguez, a favor.  \\njemc:  josé eduardo mendoza contreras, a favor.  \\namrm:  ana maría reséndiz mora, a favor.  \\nbghr:  brenda gisela hernández ramírez, a favor.  \\nfgsa:  doy cuenta de que existe unanimidad de cuatro votos por aprobar el acta \\ncorrespondiente a la cuadragésim [a] quinta  sesión ordinaria del pleno  de la comisión , \\ncelebrada el ocho  de diciembre de dos mil veintidós.  versión estenográfica 1ª sesión ordinaria de pleno de 05 de enero  de 202 3 \\n3 bghr: respecto del acta correspondiente a la octava  sesión excepcional  del nueve  de \\ndiciembre de dos mil veintidós.  \\nafr:  alejandro faya rodríguez, a favor.  \\njemc:  josé eduardo mendoza contreras, a favor.  \\namrm:  ana maría reséndiz mora, a favor.  \\nbghr:  brenda  gisela hernández ramírez, a favor.  \\nfgsa:  doy cuenta de que existe  también  unanimidad de cuatro votos por aprobar el acta \\ncorrespondiente a la octava sesión excepcional del pleno de la comisión, celebrada e l \\nnueve de diciembre de dos mil veintidós.  \\nbghr:  como segundo punto de la orden del día  tenemos la presentación, discusión  y, en \\nsu caso, resolución sobre la concentración entre dufry ag; schema beta s.p.a . y edizione \\ns.p.a ., que corresponde al expedien te cnt-139-2022  y cedo la palabra al comisionado \\nponente josé eduardo mendoza contreras . \\njemc:  gracias, comisionada presidenta . \\nla operación notificada  consiste en : [i] la cesión por parte de schema beta [s.p.a  (“schema \\nbeta”) ] del  de las acciones de autogrill [s.p.a  (“autogrill”) ]  \\n [ii] la emisión y \\nentrega a schema beta   \\n de las acciones de \\ndufry, a cambio de lo señalado en el punto anterior.  de manera posterior, dufry  lanzará una \\noferta pública de adquisición obligatoria, de acuerdo con las normas de cotización i talianas, \\npara adquirir el resto de las acciones de autogrill que cotizan en la bolsa itali ana. \\nla operación actualiza la fracción iii del artículo 86 de la le y federal de competencia \\neconómica ,  \\n y, en nuestra opinión, en la opinión de la ponencia, no \\nconstituyen un problema de competencia.   \\nen la ponencia que se circuló está descrito con mayor precisión las actividade s de las partes \\ny también el análisis, digamos, de la transacción.  \\npor todo lo anterior, esta ponencia propone o recomienda autorizar esta operación.  \\ngracias.   \\nbghr:  muchas gracias, comisionado [josé eduardo] mendoza [contreras].  \\npregunto al resto de  comisionados si ¿tienen algún comentario  relacionado con la ponencia \\nexpuesta ? \\ny si no  es así , les solicito que expresen  el sentido de su voto.  \\nafr:  alejandro faya rodríguez, a favor.  \\njemc:  josé eduardo mendoza contreras, a favor.  \\namrm:  ana maría reséndiz mora, a favor.  \\nbversión estenográfica 1ª sesión ordinaria de pleno de 05 de enero  de 202 3 \\n4 bghr:  brenda gisela hernández ramírez, a favor.  \\nfgsa:  doy cuenta de que existe unanimidad de c inco votos por  autorizar la concentración \\nidentificada con el número de expediente cnt-139-2022 , en los términos del proyecto de \\nresolución.  \\nbghr:  como tercer  y último punto de la orden del día  tenemos , derivado del ajuste de la \\nmisma , cuatro  asunto s generales.  \\ncomo primer asunto general tenemos  la presentación, discusión y, en su caso, aprobación \\ndel acuerdo relativo a la reanudación del plazo  establecido en el artículo 138, fracción iii , \\nde la ley federal de competencia económica, respecto del anteproyecto de l os \\nlineamientos para la emisión de opiniones o resoluciones en el otorgamie nto de licencias, \\nconcesiones, permisos y análogos,  por medios electrónicos ante la comisión federal de \\ncompetencia económica, y cedo la palabra al secretario técnico para que nos explique el  \\nacuerdo que se somete a nuestra consideración.  \\nfgsa:  gracias, comisionada presidente.  \\nel veintiséis de noviembre de dos mil veintiuno , el pleno de esta comisión emitió un acuerdo \\npor medio del cual, por falta de quorum  para resolver, determinó suspender el plazo al que \\nse refiere la fracción iii del artículo 138 de la ley federal de competencia económica , \\nrespecto del anteproyecto señalado  a partir de la emisión de ese acuerdo y hasta que se \\ncontara con el número mínimo de comisionados requerido para poder someter dicho \\ndocumento a votación . \\nel trece de diciembre pasado, se llevó a cabo la ratificación de andrea marván saltiel como \\ncomisionad a de este órgano constitucional autónomo, con efectos a par tir de ese día.  por \\nlo que, se considera que a partir de es a fecha ha dejado de darse la situación que impedía \\nseguir contando los plazos para resolver el caso señalado .  \\npor tanto, se propone la e misión de este acuerdo mediante el cual se indica que se reanuda \\nel plazo de sesenta días a que se refiere la fracción iii del artículo 138 de la ley [federal de \\ncompetencia económica] para emitir lineamientos  con posterioridad a la consulta pública \\na que se sometió el anteproyecto referido , al contar con el número mínimo de comisionados \\nrequeridos para poder someter a votación el presente expediente, en términos d el artículo \\n18 de la ley federal de competencia económica . \\nmuchas gracias.  \\nbghr:  muchas gracias, secretario… muchas gracias, secretario  técnico . \\npregunto a mis colegas si ¿tienen algún comentario relacionado con el acuerdo expuesto ? \\ny si no es así, les solicito que expresen el sentido de su voto.  \\nafr:  alejandro faya rodríguez, a favor del acuerdo.  \\njemc:  josé eduardo mendoza contreras, a favor.  \\namrm:  ana maría reséndiz mora,  a favor.  \\nams:  andrea marván saltiel, a favor.  \\nbghr:  brenda gisela hernández ramírez, a favor.  \\nfgsa:  doy cuenta de que existe unanimidad de cinco votos por emitir el acuerdo , en los \\ntérminos señalados . versión estenográfica 1ª sesión ordinaria de pleno de 05 de enero  de 202 3 \\n5 bghr:  como segundo asunto general  tenemos  la presentac ión, discusión y, en su caso, \\naprobación del acuerdo relativo a la reanudación del plazo establecido en el artículo 138, \\nfracción iii , de la ley federal de competencia económica, respecto del anteproyecto de los \\nlineamientos para el uso de medios electrónicos durante la investig ación, la secuela del \\nprocedimiento, la verificación y los incidentes tramitados ante la comisión federa l de \\ncompetencia económica  y cedo la palabra al secretario técnico para que nos explique el \\nacuerdo que somete a nuestra  consideración.  \\nfgsa:  muchas gracias, comisionada presidente.  \\nen el mismo sentido que en el caso anterior, el veintiséis de noviembre de dos mil veintiuno , \\nel pleno de la comisión emitió un acuerdo en el cual se suspendió el plazo al que se refiere \\nla fracción iii del artículo 138 de la ley [federal de competencia económica ] para emitir los \\nlineamientos después de la consulta pública a que se sometió el anteproyecto señalado y \\ndado que , el trece de diciembre de dos mil veintid ós, se ratificó a la comisionada andrea \\nmarván saltiel como tal, se considera que  pues  ya existen condiciones para poder levantar \\nla suspensión.  \\npor tanto, se somete a su consideración un acuerdo en los mismos términos que en el caso \\nseñalado anteriormente .  \\nbghr:  muchas gracias, secretario técnico.  \\npregunto a mis colegas si ¿tienen algún comentario relacionado con el acuerdo expuesto ? \\nde lo contrario, les solicito que expresen el sentido de su voto.  \\nafr:  alejandro faya rodríguez, a favor.  \\njemc:  josé eduardo mendoza contreras, a favor.  \\namrm:  ana maría reséndiz mora, a favor.  \\nams:  andrea marván saltiel, a favor.  \\nbghr:  brenda gisela hernández ramírez, a favor.  \\nfgsa:  doy cuenta de que existe unanimidad de cinco votos por emitir el acuerdo , en los \\ntérminos señalados.  \\nbghr:  como tercer asunto general tenemos  la solicitud de calificación de excusa \\npresentada el tres de enero del año en curso , por la comisionada andrea marván saltiel  \\npara conocer del expediente  vsp-002-2019 -i. cedo la palabra a la comisionada  [andrea \\nmarván saltiel ] para que nos explique el motivo de su excusa.  \\nams:  muchas gracias, comisionada [presidenta].  \\nla excusa o los principales motivos de la excusa ya los tiene n ustedes dado que se presentó \\npor escrito, pero se las presento a grandes rasgos.  \\ndurante el tiempo en el que ejercí como directora general adjunta y , posteriormente , \\ndirectora ejecutiva del staff [de la autoridad investigadora de la comi sión federal de \\ncompetencia económica], mis labores fueron básicamente auxiliar al titular de  la autoridad \\ninvestigadora  en la tramitación de diversos expedientes . en específico, respe cto de este \\nexpediente , participé proponiendo sugerencias respecto a las estrategias de … planteadas \\nen la investigación y auxilié en la asesoría del titular de la autoridad investig adora para la \\ntoma de decisiones relacionada con el expediente principal relacionado con este asunt o. versión estenográfica 1ª sesión ordinaria de pleno de 05 de enero  de 202 3 \\n6 por lo tanto, someto a calificación de ustedes si se actualiza la excusa prevista e n el artículo \\n24 de la ley federal de competencia económica, en la fracción iv.  \\nbghr:  muchas gracias, comisionada [andrea] marván [saltiel].  \\nle solicito, por favor, que salga de esta sesión virtual para poder deliberar sobre la excusa  \\npresentada y también le pido al secretar io técnico que una vez que la comisionada \\n[andrea] marván [saltiel] salga dé fe de dicha acción.  \\nams: gracias.  \\nfgsa:  comisionada presidente, hago con star que la comisionada andrea marván saltiel  \\nsalió de la sala de sesiones . \\nbghr:  muchas gracias.  \\nle pido a mis colegas que manifiesten si tienen algún comentario al respecto y  si no  que \\nemitan el sentido de su voto . \\nafr:  alejandro faya rodríguez, voto por la improcedencia de la excusa planteada.  \\njemc:  josé eduardo mendoza contreras, considero improce dente la excusa . \\namrm:  ana maría reséndiz mora, voto por la improcedencia . \\nbghr:  brenda gisela hernández ramírez, considero procedente la excusa presentada , \\ntoda vez que la comisionada [andrea] marván [saltiel] señala en el escrito que fue \\npresentado que en ejercicio de sus funciones dentro de la autoridad investigadora  propuso \\nmejoras y realizó sugerencias respecto de las estrategias de investigación . asimismo, \\ncolaboró en la toma de decisiones del titular de la autoridad inves tigadora respecto del \\nexpediente de -008-2016 del cual deriva el vsp [-002-2019 -i] ya referido.  \\nademás,  señala que realizó revisiones y análisis jurídico -económicos de diversas \\nactuaciones que deriva ron en acuerdos, oficios y dictámenes, entre otros, relacionados con \\ndicho expediente principal.  \\nestimo que dichas circunstancias implican la existencia de hechos que la ley fe deral de \\ncompetencia económica presume como generadores de un interés directo o indirecto al \\nhaber gestionado el asunto en favor de la autoridad investigadora, por tanto, se configura  y \\nactualiza la causal de l impedimento establecida en la fracción iv del artículo 24 de la ley \\nfederal de competencia económica.  \\nahora bien, como lo he sostenido en ocasiones anteriores, estimo que si un comisionado \\ntiene imp edimento derivado de la sustanciación de un asunto en la etapa de  investigación, \\ndicho impedimento se extiende a los expedientes derivados. en específico, el  caso que \\nanalizó la comisionada [andrea marván saltiel] en el expediente de -008-2016 se relaciona \\ncon el expediente vsp -002-2019 -i, es decir , el expediente incidental , en el cual la materia \\nes verificar el cumplimiento o incumplimiento de los compromisos contenidos en la \\nresolución emitida por el pleno de la comisión en el expediente de -008-2016.  \\nen este sentido, estimo procedente la solicitud de la comisionada [andrea m arván saltiel] . \\nfgsa:  entonces d oy cuenta de que existe mayoría  de tres votos , con voto en contra de la \\ncomisionada [presidenta] brenda gisela hernández ramírez , por considerar que resulta \\nimprocedente la excusa planteada por la comisionada andrea marván saltiel.  \\nbghr:  muchas gracias, secretario técnico.  versión estenográfica 1ª sesión ordinaria de pleno de 05 de enero  de 202 3 \\n7 le pido, por favor, que integre a la sesión a la comisionada [andrea] marván [salti el] y dé \\nfe de lo anterior.  \\nfgsa:  sí, comisionada president e. \\npermítame un segundo, no me está respondiendo la llamada.  \\nya. \\ncomisionada [andrea] marván [saltiel]  ¿estás ahí?  \\nams:  sí, estoy aquí.  \\nfgsa: okay,  hago constar que regresó a la sala de sesiones la comisionada andrea  marván \\nsaltiel.  \\nbghr:  muchas gracias.  \\ncomo cuarto y último asunto general tenemos la presentación, discusión y, e n su caso, \\naprobación del acuerdo  por el que se emite el manual que regula las remuneraciones de \\nlas personas servidoras públicas, y por el que se aprueba la estructura ocupacional de la  \\ncomisión federal de competencia económica y cedo la palabra al secretario técnico par a \\nque nos explique el acuerdo que somete a nuestra consideración.  \\nfgsa:  gracias, comisionada presidente.  \\nse somete a su consideración la discusión y aprobación del manual que regula las \\nremuneraciones de las personas servidoras públicas, y por el que se aprueba la estructur a \\nocupacional de la comisión federal de competencia económica para el ejercicio dos m il \\nveintitrés, esto deriva de la necesidad de dar cumplimiento a lo que establece e l artículo 21 \\ndel presupuesto de egresos de la federación para el ejercicio fiscal 2023, que consiste  en \\nque los entes  autónomos deberán publicar en el diario oficial de la federación , a más tardar \\nel último día hábil del mes de febrero , el manual que regula las remuneraciones para los \\nservidores públicos a su servicio, en el que se propone la información completa y de tallada \\nrelativa a las remuneraciones que se c ubran para cada uno de los niveles jerárquicos que \\nlos conforman. asimismo, deberán publicar en el diario oficial de la federa ción, en la fecha \\nantes señalada, la estructura ocupacional que contenga la integración  de los recursos \\naprobados en el capítulo de servicios personales , con la desagregación de su plantilla total.  \\nmuchas gracias.  \\nbghr:  muchas gracias, secretario técnico.  \\npregunto a mis colegas si ¿tienen algún comentario relacionado con el acuerdo expuesto ?  \\ny si no es así, expresen el sentido de su voto.  \\nafr:  bueno , yo levanté la mano . nada más para mayor certeza , es mí entendimiento y \\nentiendo que también es compartido por mis colegas comisionados , que para el caso de \\nservidores públicos que … cuya s remuneraciones se estén pagando conforme a alguna \\nresolución judicial eso no impide que este manual que estamos aproban do para dos mil \\nveintitrés si hay algunos conceptos o rubros que operen en su beneficio pues también se \\nles puedan aplicar ¿no?  así ent iendo que es la interpretación correcta y jurídicamente \\nprocedente .  \\nentonces hay algunas sugerencias de engrose por s i hacen más claro el asunto , si no es \\nnecesario pues entonces se aplicaría  en esos términos.  versión estenográfica 1ª sesión ordinaria de pleno de 05 de enero  de 202 3 \\n8 así lo entiendo ¿no?  \\ny… \\nbghr:  si no hay algún otro…  \\nafr:  okay .  \\ny yo voto a favor, nada más haciendo la aclaración de que, lo que respecta a mi esfera \\njurídica individual, me reservo cualquier medio de defensa frente a cualqui er acto de \\naplicación de este manual que pudiera repercutir negativamente en mis derechos.  \\ngracias.  \\njemc:  josé eduardo mendoza contreras, al igual que el comisionado [alejandro] faya \\n[rodríguez], me reservo, o sea , voto a favor  del manual sin menoscabo al ejercicio de mis \\nderechos jurídicos y humanos.  \\ngracias.  \\namrm : ana maría reséndiz mora, a favor  del manual . \\nams:  andrea marván saltiel, a favor.  \\nbghr:  brenda gisela hernández ramírez, a favor.  \\nfgsa:  doy cuenta de que existe unanimidad de cinco votos por emitir el manual propuest o, \\nen los términos señalados.  \\nbghr: no habiendo otro asunto que resolver, se da por concluida la presente sesi ón a las \\ntrece  horas con veintitrés  minutos del cinco  de enero  de dos mil veint itrés. \\nmuchas gracias.  \\njemc:  gracias a todos.  \\nfgsa:  muchas g racias, comisionados .  '"
      ]
     },
     "execution_count": 57,
     "metadata": {},
     "output_type": "execute_result"
    }
   ],
   "source": [
    "# Preprocess the tokenized text for 3-grams language modelling\n",
    "\n",
    "contenido = contenido.lower()\n",
    "\n",
    "contenido"
   ]
  },
  {
   "cell_type": "code",
   "execution_count": 71,
   "metadata": {},
   "outputs": [
    {
     "data": {
      "text/plain": [
       "[['<s>',\n",
       "  'versión',\n",
       "  'pública',\n",
       "  'unidad',\n",
       "  'administrativa',\n",
       "  'que',\n",
       "  'clasifica',\n",
       "  ':',\n",
       "  'secretaría',\n",
       "  'técnica',\n",
       "  'número',\n",
       "  'de',\n",
       "  'acta',\n",
       "  'y',\n",
       "  'fecha',\n",
       "  'en',\n",
       "  'la',\n",
       "  'que',\n",
       "  'se',\n",
       "  'aprobó',\n",
       "  'por',\n",
       "  'el',\n",
       "  'comité',\n",
       "  ':',\n",
       "  'cot-004-2023',\n",
       "  '–',\n",
       "  '25',\n",
       "  'de',\n",
       "  'enero',\n",
       "  'de',\n",
       "  '2023',\n",
       "  'descripción',\n",
       "  'del',\n",
       "  'documento',\n",
       "  ':',\n",
       "  'versión',\n",
       "  'pública',\n",
       "  'de',\n",
       "  'la',\n",
       "  'versión',\n",
       "  'estenográfica',\n",
       "  'de',\n",
       "  'la',\n",
       "  'primera',\n",
       "  'sesión',\n",
       "  'ordinaria',\n",
       "  'del',\n",
       "  'pleno',\n",
       "  'de',\n",
       "  'la',\n",
       "  'comisión',\n",
       "  'federal',\n",
       "  'de',\n",
       "  'competencia',\n",
       "  'económica',\n",
       "  'celebrada',\n",
       "  'el',\n",
       "  'cinco',\n",
       "  'de',\n",
       "  'enero',\n",
       "  'de',\n",
       "  'dos',\n",
       "  'mil',\n",
       "  'veintitrés',\n",
       "  '.',\n",
       "  'tipo',\n",
       "  'de',\n",
       "  'información',\n",
       "  'clasificada',\n",
       "  'y',\n",
       "  'fundamento',\n",
       "  'legal',\n",
       "  ':',\n",
       "  'información',\n",
       "  'confidencial',\n",
       "  'la',\n",
       "  'información',\n",
       "  'testada',\n",
       "  'e',\n",
       "  'identificada',\n",
       "  'con',\n",
       "  'la',\n",
       "  'letra',\n",
       "  'b',\n",
       "  'es',\n",
       "  'confidencial',\n",
       "  'en',\n",
       "  'términos',\n",
       "  'de',\n",
       "  'los',\n",
       "  'artículos',\n",
       "  '113',\n",
       "  ',',\n",
       "  'fracción',\n",
       "  'iii',\n",
       "  ',',\n",
       "  'de',\n",
       "  'la',\n",
       "  'ley',\n",
       "  'federal',\n",
       "  'de',\n",
       "  'transparencia',\n",
       "  'y',\n",
       "  'acceso',\n",
       "  'a',\n",
       "  'la',\n",
       "  'información',\n",
       "  'públi',\n",
       "  'ca',\n",
       "  ',',\n",
       "  '116',\n",
       "  ',',\n",
       "  'último',\n",
       "  'párrafo',\n",
       "  ',',\n",
       "  'de',\n",
       "  'la',\n",
       "  'ley',\n",
       "  'general',\n",
       "  'de',\n",
       "  'transparencia',\n",
       "  'y',\n",
       "  'acceso',\n",
       "  'a',\n",
       "  'la',\n",
       "  'información',\n",
       "  'públ',\n",
       "  'ica',\n",
       "  ',',\n",
       "  'así',\n",
       "  'como',\n",
       "  'cuadragésimo',\n",
       "  'de',\n",
       "  'los',\n",
       "  'lineamientos',\n",
       "  'generales',\n",
       "  'en',\n",
       "  'materia',\n",
       "  'de',\n",
       "  'clasificación',\n",
       "  'y',\n",
       "  'desclasifica',\n",
       "  'ción',\n",
       "  'de',\n",
       "  'la',\n",
       "  'información',\n",
       "  ',',\n",
       "  'así',\n",
       "  'como',\n",
       "  'para',\n",
       "  'la',\n",
       "  'elaboración',\n",
       "  'de',\n",
       "  'versiones',\n",
       "  'públicas',\n",
       "  ',',\n",
       "  'en',\n",
       "  'relación',\n",
       "  'con',\n",
       "  'los',\n",
       "  'artículos',\n",
       "  '3',\n",
       "  ',',\n",
       "  'fracción',\n",
       "  'ix',\n",
       "  ',',\n",
       "  '124',\n",
       "  'y',\n",
       "  '125',\n",
       "  'de',\n",
       "  'la',\n",
       "  'ley',\n",
       "  'federal',\n",
       "  'de',\n",
       "  'competencia',\n",
       "  'económica',\n",
       "  ',',\n",
       "  'toda',\n",
       "  'vez',\n",
       "  'que',\n",
       "  'fue',\n",
       "  'presentada',\n",
       "  'con',\n",
       "  'ese',\n",
       "  'carácter',\n",
       "  'a',\n",
       "  'este',\n",
       "  'sujeto',\n",
       "  'obligado',\n",
       "  'ten',\n",
       "  'iendo',\n",
       "  'derecho',\n",
       "  'a',\n",
       "  'ello',\n",
       "  ',',\n",
       "  'en',\n",
       "  'virtud',\n",
       "  'de',\n",
       "  'que',\n",
       "  'puede',\n",
       "  'causar',\n",
       "  'un',\n",
       "  'daño',\n",
       "  'o',\n",
       "  'perjuicio',\n",
       "  'en',\n",
       "  'la',\n",
       "  'posición',\n",
       "  'co',\n",
       "  'mpetitiva',\n",
       "  'de',\n",
       "  'su',\n",
       "  'titular',\n",
       "  'ya',\n",
       "  'que',\n",
       "  'comprende',\n",
       "  'hechos',\n",
       "  'y',\n",
       "  'actos',\n",
       "  'de',\n",
       "  'carácter',\n",
       "  'económico',\n",
       "  'y',\n",
       "  'jurídico',\n",
       "  'relativos',\n",
       "  'a',\n",
       "  'una',\n",
       "  'pe',\n",
       "  'rsona',\n",
       "  'moral',\n",
       "  '.',\n",
       "  'periodo',\n",
       "  'de',\n",
       "  'reserva',\n",
       "  ':',\n",
       "  'no',\n",
       "  'aplica',\n",
       "  '.',\n",
       "  'páginas',\n",
       "  'que',\n",
       "  'contienen',\n",
       "  'información',\n",
       "  'clasificada',\n",
       "  ':',\n",
       "  '3.',\n",
       "  'fidel',\n",
       "  'gerardo',\n",
       "  'sierra',\n",
       "  'aranda',\n",
       "  'secretario',\n",
       "  'técnico',\n",
       "  'karla',\n",
       "  'moctezuma',\n",
       "  'bautista',\n",
       "  'coordinadora',\n",
       "  'general',\n",
       "  'de',\n",
       "  'acuerdos',\n",
       "  'sello',\n",
       "  'digital',\n",
       "  'no',\n",
       "  '.',\n",
       "  'certificado',\n",
       "  'fecha',\n",
       "  'jjxlhtjwcpnyeabhour+ddavjv43rhram48a',\n",
       "  'mdc/fvmuwcsepsja2nt0grm+lmruohuvwor5',\n",
       "  '/6l98kt/w3eobqqlrt4wuvpej/ju0asoj9tlael',\n",
       "  'es4gbnp9p/jqjdrge20/9htpijr7t3bu7uhywmw',\n",
       "  'ck92ypcgm84j11i++pfmwtzqmwrwwrrvjyrdv',\n",
       "  'ayvdryfm7mq6ck/2+lsfkwl4q9n1r8rezbnh7',\n",
       "  '9pfpbuzy7sjtgftkpz47kiq7mukhw+wansf2/j',\n",
       "  'grdipndzstas9oxoedby14geqqfpv4eb4wssm7',\n",
       "  'krnr4m/0i3/qssfyqa1hb7xwmxs/v86gmbmeq',\n",
       "  'se0og==00001000000511731923',\n",
       "  'jueves',\n",
       "  ',',\n",
       "  '26',\n",
       "  'de',\n",
       "  'enero',\n",
       "  'de',\n",
       "  '2023',\n",
       "  ',',\n",
       "  '10:54',\n",
       "  'a.',\n",
       "  'm.',\n",
       "  'fidel',\n",
       "  'gerardo',\n",
       "  'sierra',\n",
       "  'aranda',\n",
       "  'tu/n43tus2mwtc1mr1qy87cvto2rcwop/rxew',\n",
       "  'uf5rcmxrjxjpdfhpjom/u04w7mkhkjy15jx0j/uq',\n",
       "  '9dvib0v4bbeafjxnmoinixxg+zekswsow19/s',\n",
       "  '4mv+uk89rosojcdqlsp2l6p+oechguziafc40p',\n",
       "  '1ejs8fs0phdedmbwmcywujahntruhtkdulbdv',\n",
       "  'zdch9xznvt0+ozweazwsapsfvi9cwi3xcznz9l',\n",
       "  'jla/z40gfg4ma0kb0qwh9edbrbjyicvqmyrsj1',\n",
       "  'oqq8ooycai35wgkz8tu8lva+3++9kewlvvudbk',\n",
       "  'bv2hzd6s8guvzicgzb1eztctpwhn4xqbs29ag',\n",
       "  'vg==00001000000510304919',\n",
       "  'miércoles',\n",
       "  ',',\n",
       "  '25',\n",
       "  'de',\n",
       "  'enero',\n",
       "  'de',\n",
       "  '2023',\n",
       "  ',',\n",
       "  '04:53',\n",
       "  'p.',\n",
       "  'm.',\n",
       "  'karla',\n",
       "  'moctezuma',\n",
       "  'bautistanúmero',\n",
       "  'de',\n",
       "  'expediente',\n",
       "  ':',\n",
       "  'art',\n",
       "  '.',\n",
       "  '72',\n",
       "  'f',\n",
       "  'ii',\n",
       "  'inciso',\n",
       "  'a',\n",
       "  '1a',\n",
       "  'número',\n",
       "  'de',\n",
       "  'páginas',\n",
       "  ':',\n",
       "  '2versión',\n",
       "  'estenográfica',\n",
       "  '1ª',\n",
       "  'sesión',\n",
       "  'ordinaria',\n",
       "  'de',\n",
       "  'pleno',\n",
       "  'de',\n",
       "  '05',\n",
       "  'de',\n",
       "  'enero',\n",
       "  'de',\n",
       "  '202',\n",
       "  '3',\n",
       "  '1',\n",
       "  '________________________________________________________________________________',\n",
       "  'comisión',\n",
       "  'federal',\n",
       "  'de',\n",
       "  'competencia',\n",
       "  'económica',\n",
       "  '1ª',\n",
       "  '.',\n",
       "  'sesión',\n",
       "  'ordinaria',\n",
       "  'del',\n",
       "  'pleno',\n",
       "  ',',\n",
       "  'celebrada',\n",
       "  'el',\n",
       "  'cinco',\n",
       "  'de',\n",
       "  'enero',\n",
       "  'de',\n",
       "  'dos',\n",
       "  'mil',\n",
       "  'veinti',\n",
       "  'trés',\n",
       "  'versión',\n",
       "  'estenográfica',\n",
       "  '__________________________________________________________________',\n",
       "  'brenda',\n",
       "  'gisela',\n",
       "  'hernández',\n",
       "  'ramírez',\n",
       "  '(',\n",
       "  'bghr',\n",
       "  ')',\n",
       "  ':',\n",
       "  'buen',\n",
       "  'a',\n",
       "  'tarde',\n",
       "  '.',\n",
       "  'hoy',\n",
       "  ',',\n",
       "  'cinco',\n",
       "  'de',\n",
       "  'enero',\n",
       "  'de',\n",
       "  'dos',\n",
       "  'mil',\n",
       "  'veinti',\n",
       "  'trés',\n",
       "  ',',\n",
       "  'siendo',\n",
       "  'las',\n",
       "  'trece',\n",
       "  'horas',\n",
       "  'con',\n",
       "  'un',\n",
       "  'minuto',\n",
       "  ',',\n",
       "  'de',\n",
       "  'conformidad',\n",
       "  'con',\n",
       "  'lo',\n",
       "  'establecido',\n",
       "  'en',\n",
       "  'el',\n",
       "  'artículo',\n",
       "  '18',\n",
       "  'de',\n",
       "  'los',\n",
       "  'lineamientos',\n",
       "  'para',\n",
       "  'el',\n",
       "  'funcionamiento',\n",
       "  'del',\n",
       "  'pleno',\n",
       "  'de',\n",
       "  'esta',\n",
       "  'comisión',\n",
       "  'federal',\n",
       "  'de',\n",
       "  'competencia',\n",
       "  'económica',\n",
       "  ',',\n",
       "  'aprobados',\n",
       "  'mediante',\n",
       "  'acuerdo',\n",
       "  'de',\n",
       "  'nueve',\n",
       "  'de',\n",
       "  'septiembre',\n",
       "  'de',\n",
       "  'dos',\n",
       "  'mil',\n",
       "  'veinti',\n",
       "  'uno',\n",
       "  ',',\n",
       "  'celebramos',\n",
       "  'de',\n",
       "  'manera',\n",
       "  'remota',\n",
       "  'la',\n",
       "  'sesión',\n",
       "  'ordinaria',\n",
       "  'número',\n",
       "  'uno',\n",
       "  'del',\n",
       "  'pleno',\n",
       "  'de',\n",
       "  'la',\n",
       "  'comisión',\n",
       "  'federal',\n",
       "  'de',\n",
       "  'competencia',\n",
       "  'económica',\n",
       "  ',',\n",
       "  'a',\n",
       "  'través',\n",
       "  'de',\n",
       "  'la',\n",
       "  'plataforma',\n",
       "  'electrónica',\n",
       "  '[',\n",
       "  'microsoft',\n",
       "  ']',\n",
       "  'teams',\n",
       "  '.',\n",
       "  'antes',\n",
       "  'de',\n",
       "  'iniciar',\n",
       "  ',',\n",
       "  'debo',\n",
       "  'señalar',\n",
       "  'que',\n",
       "  'esta',\n",
       "  'sesión',\n",
       "  'será',\n",
       "  'pública',\n",
       "  'con',\n",
       "  'la',\n",
       "  'versión',\n",
       "  'estenog',\n",
       "  'ráfica',\n",
       "  'que',\n",
       "  'se',\n",
       "  'publique',\n",
       "  'en',\n",
       "  'el',\n",
       "  'sitio',\n",
       "  'de',\n",
       "  'internet',\n",
       "  'de',\n",
       "  'la',\n",
       "  'comisión',\n",
       "  ',',\n",
       "  'en',\n",
       "  'términos',\n",
       "  'del',\n",
       "  'artículo',\n",
       "  '47',\n",
       "  'de',\n",
       "  'las',\n",
       "  'disposiciones',\n",
       "  'regulatorias',\n",
       "  'de',\n",
       "  'la',\n",
       "  'ley',\n",
       "  'federal',\n",
       "  'de',\n",
       "  'competencia',\n",
       "  'e',\n",
       "  'conómica',\n",
       "  'y',\n",
       "  'demás',\n",
       "  'disposiciones',\n",
       "  'jurídicas',\n",
       "  'aplic',\n",
       "  'ables',\n",
       "  '.',\n",
       "  'a',\n",
       "  'continuación',\n",
       "  ',',\n",
       "  'c',\n",
       "  'edo',\n",
       "  'la',\n",
       "  'palabra',\n",
       "  'al',\n",
       "  'secretario',\n",
       "  'técnico',\n",
       "  'para',\n",
       "  'que',\n",
       "  'dé',\n",
       "  'fe',\n",
       "  'respecto',\n",
       "  'de',\n",
       "  'la',\n",
       "  'invitación',\n",
       "  'realizada',\n",
       "  'a',\n",
       "  'los',\n",
       "  'comisionados',\n",
       "  'para',\n",
       "  'unirse',\n",
       "  'a',\n",
       "  'esta',\n",
       "  'sesión',\n",
       "  'remota',\n",
       "  'del',\n",
       "  'pleno',\n",
       "  ',',\n",
       "  'así',\n",
       "  'como',\n",
       "  'para',\n",
       "  'que',\n",
       "  'dé',\n",
       "  'cuenta',\n",
       "  'de',\n",
       "  'quiénes',\n",
       "  'de',\n",
       "  'ellos',\n",
       "  'se',\n",
       "  'encuentran',\n",
       "  'incorporados',\n",
       "  '.',\n",
       "  'fidel',\n",
       "  'gerardo',\n",
       "  'sierra',\n",
       "  'aranda',\n",
       "  '(',\n",
       "  'fgsa',\n",
       "  ')',\n",
       "  ':',\n",
       "  'gracias',\n",
       "  ',',\n",
       "  'comisionada',\n",
       "  'presidente',\n",
       "  '.',\n",
       "  'hago',\n",
       "  'constar',\n",
       "  'que',\n",
       "  'realicé',\n",
       "  'la',\n",
       "  'invitación',\n",
       "  'para',\n",
       "  'incorporarse',\n",
       "  'a',\n",
       "  'esta',\n",
       "  'sesión',\n",
       "  'a',\n",
       "  'cada',\n",
       "  'uno',\n",
       "  'de',\n",
       "  'los',\n",
       "  'comisionados',\n",
       "  'que',\n",
       "  'conforman',\n",
       "  'el',\n",
       "  'pleno',\n",
       "  'de',\n",
       "  'la',\n",
       "  'comisión',\n",
       "  'federal',\n",
       "  'de',\n",
       "  'competencia',\n",
       "  'económica',\n",
       "  ',',\n",
       "  'a',\n",
       "  'través',\n",
       "  'de',\n",
       "  'sus',\n",
       "  'cuentas',\n",
       "  'institucionales',\n",
       "  'y',\n",
       "  'utilizando',\n",
       "  'como',\n",
       "  'software',\n",
       "  'microsoft',\n",
       "  'teams',\n",
       "  '.',\n",
       "  'asimismo',\n",
       "  ',',\n",
       "  'doy',\n",
       "  'fe',\n",
       "  'de',\n",
       "  'que',\n",
       "  'del',\n",
       "  'audio',\n",
       "  'o',\n",
       "  'del',\n",
       "  'vídeo',\n",
       "  'de',\n",
       "  'microsoft',\n",
       "  'teams',\n",
       "  'se',\n",
       "  'advierte',\n",
       "  'la',\n",
       "  'incorporación',\n",
       "  'de',\n",
       "  'los',\n",
       "  'siguientes',\n",
       "  'comisionados',\n",
       "  'a',\n",
       "  'esta',\n",
       "  'sesión',\n",
       "  'remota',\n",
       "  ':',\n",
       "  'brenda',\n",
       "  'gisela',\n",
       "  'hernández',\n",
       "  'ramírez',\n",
       "  ',',\n",
       "  'quien',\n",
       "  'actúa',\n",
       "  'como',\n",
       "  'presidente',\n",
       "  'de',\n",
       "  'la',\n",
       "  'comisión',\n",
       "  ',',\n",
       "  'en',\n",
       "  'términos',\n",
       "  'del',\n",
       "  'artículo',\n",
       "  '19',\n",
       "  'de',\n",
       "  'la',\n",
       "  'ley',\n",
       "  'federal',\n",
       "  'de',\n",
       "  'competencia',\n",
       "  'económica',\n",
       "  ';',\n",
       "  'andrea',\n",
       "  'mar',\n",
       "  'ván',\n",
       "  'saltiel',\n",
       "  ';',\n",
       "  'ana',\n",
       "  'maría',\n",
       "  'reséndiz',\n",
       "  'mora',\n",
       "  ';',\n",
       "  'josé',\n",
       "  'eduardo',\n",
       "  'mendoza',\n",
       "  'contreras',\n",
       "  'y',\n",
       "  'alejandro',\n",
       "  'faya',\n",
       "  'rodríguez',\n",
       "  '.',\n",
       "  'muchas',\n",
       "  'gracias',\n",
       "  '.',\n",
       "  'bghr',\n",
       "  ':',\n",
       "  'gracias',\n",
       "  ',',\n",
       "  'secretario',\n",
       "  'técnico',\n",
       "  '.',\n",
       "  'el',\n",
       "  'orden',\n",
       "  'del',\n",
       "  'día',\n",
       "  'de',\n",
       "  'la',\n",
       "  'presente',\n",
       "  'sesión',\n",
       "  'fue',\n",
       "  'circulada',\n",
       "  'con',\n",
       "  'anterioridad',\n",
       "  'a',\n",
       "  'los',\n",
       "  'i',\n",
       "  'ntegrantes',\n",
       "  'del',\n",
       "  'pleno',\n",
       "  'que',\n",
       "  ',',\n",
       "  'a',\n",
       "  'partir',\n",
       "  'del',\n",
       "  'trece',\n",
       "  'de',\n",
       "  'diciembre',\n",
       "  'de',\n",
       "  'dos',\n",
       "  'mil',\n",
       "  'veintidós',\n",
       "  ',',\n",
       "  'somos',\n",
       "  'c',\n",
       "  'inco',\n",
       "  ',',\n",
       "  'existiendo',\n",
       "  'dos',\n",
       "  'vacantes',\n",
       "  '.',\n",
       "  'y',\n",
       "  'aprovecho',\n",
       "  'la',\n",
       "  'oportunidad',\n",
       "  'de',\n",
       "  'dar',\n",
       "  'la',\n",
       "  'bienvenida',\n",
       "  'a',\n",
       "  'la',\n",
       "  'comisionada',\n",
       "  '[',\n",
       "  'andrea',\n",
       "  ']',\n",
       "  'marván',\n",
       "  '[',\n",
       "  'sal',\n",
       "  'tiel',\n",
       "  ']',\n",
       "  'a',\n",
       "  'la',\n",
       "  'primera',\n",
       "  'sesión',\n",
       "  'del',\n",
       "  'pleno',\n",
       "  'en',\n",
       "  'la',\n",
       "  'que',\n",
       "  'participa',\n",
       "  '.',\n",
       "  'adicionalmente',\n",
       "  ',',\n",
       "  'pregunto',\n",
       "  'a',\n",
       "  'mis',\n",
       "  'colegas',\n",
       "  'si',\n",
       "  '¿están',\n",
       "  'de',\n",
       "  'acuerdo',\n",
       "  'en',\n",
       "  'aprobar',\n",
       "  'el',\n",
       "  'orden',\n",
       "  'del',\n",
       "  'día',\n",
       "  'o',\n",
       "  'quisieran',\n",
       "  'hacer',\n",
       "  'alguna',\n",
       "  'modificación',\n",
       "  '?',\n",
       "  '¿comisionada',\n",
       "  '[',\n",
       "  'andrea',\n",
       "  ']',\n",
       "  'marván',\n",
       "  '[',\n",
       "  'saltiel',\n",
       "  ']',\n",
       "  '?',\n",
       "  'versión',\n",
       "  'estenográfica',\n",
       "  '1ª',\n",
       "  'sesión',\n",
       "  'ordinaria',\n",
       "  'de',\n",
       "  'pleno',\n",
       "  'de',\n",
       "  '05',\n",
       "  'de',\n",
       "  'enero',\n",
       "  'de',\n",
       "  '202',\n",
       "  '3',\n",
       "  '2',\n",
       "  'andrea',\n",
       "  'marván',\n",
       "  'saltiel',\n",
       "  '(',\n",
       "  'ams',\n",
       "  ')',\n",
       "  ':',\n",
       "  'muchas',\n",
       "  'gracias',\n",
       "  ',',\n",
       "  'comisionada',\n",
       "  '[',\n",
       "  'presidenta',\n",
       "  ']',\n",
       "  '.',\n",
       "  'me',\n",
       "  'gustaría',\n",
       "  'hacer',\n",
       "  'una',\n",
       "  'modificación',\n",
       "  'a',\n",
       "  'la',\n",
       "  'orden',\n",
       "  'del',\n",
       "  'día',\n",
       "  ',',\n",
       "  'específicamente',\n",
       "  'respecto',\n",
       "  'a',\n",
       "  'los',\n",
       "  'acuerdos',\n",
       "  'relacionados',\n",
       "  'con',\n",
       "  'las',\n",
       "  'investigaciones',\n",
       "  'para',\n",
       "  'determinar',\n",
       "  'la',\n",
       "  'existencia',\n",
       "  'de',\n",
       "  'barreras',\n",
       "  'a',\n",
       "  'la',\n",
       "  'competencia',\n",
       "  'e',\n",
       "  'insumos',\n",
       "  'esenciales',\n",
       "  ',',\n",
       "  'toda',\n",
       "  'vez',\n",
       "  'que',\n",
       "  'al',\n",
       "  'respect',\n",
       "  'o',\n",
       "  'de',\n",
       "  'estas',\n",
       "  'dos',\n",
       "  'investigaciones',\n",
       "  'se',\n",
       "  'está',\n",
       "  'valorando',\n",
       "  'la',\n",
       "  'presentación',\n",
       "  'de',\n",
       "  'excusas',\n",
       "  '.',\n",
       "  'por',\n",
       "  'lo',\n",
       "  'tanto',\n",
       "  ',',\n",
       "  'les',\n",
       "  'solicitaría',\n",
       "  'que',\n",
       "  'se',\n",
       "  'b',\n",
       "  'ajen',\n",
       "  'del',\n",
       "  'orden',\n",
       "  'del',\n",
       "  'día',\n",
       "  '.',\n",
       "  'bghr',\n",
       "  ':',\n",
       "  'gracias',\n",
       "  ',',\n",
       "  'comisionada',\n",
       "  '[',\n",
       "  'andrea',\n",
       "  ']',\n",
       "  'marván',\n",
       "  '[',\n",
       "  'saltiel',\n",
       "  ']',\n",
       "  '.',\n",
       "  'pregunto',\n",
       "  'al',\n",
       "  'resto',\n",
       "  'de',\n",
       "  'comisionados',\n",
       "  'si',\n",
       "  '¿están',\n",
       "  'de',\n",
       "  'acuerdo',\n",
       "  'en',\n",
       "  'la',\n",
       "  'modificación',\n",
       "  'solicit',\n",
       "  'ada',\n",
       "  '?',\n",
       "  'josé',\n",
       "  'eduardo',\n",
       "  'mendoza',\n",
       "  'contreras',\n",
       "  '(',\n",
       "  'jemc',\n",
       "  ')',\n",
       "  ':',\n",
       "  'de',\n",
       "  'acuerdo',\n",
       "  '.',\n",
       "  'bghr',\n",
       "  ':',\n",
       "  'entiendo',\n",
       "  'que',\n",
       "  'el',\n",
       "  'resto',\n",
       "  'también',\n",
       "  'y',\n",
       "  ',',\n",
       "  'en',\n",
       "  'consecuencia',\n",
       "  ',',\n",
       "  'con',\n",
       "  'el',\n",
       "  'ajuste',\n",
       "  'referido',\n",
       "  ',',\n",
       "  'inicio',\n",
       "  'con',\n",
       "  'el',\n",
       "  'desahogo',\n",
       "  'de',\n",
       "  'la',\n",
       "  'orden',\n",
       "  'del',\n",
       "  'día',\n",
       "  '.',\n",
       "  'como',\n",
       "  'primer',\n",
       "  'punto',\n",
       "  'de',\n",
       "  'la',\n",
       "  'orden',\n",
       "  'del',\n",
       "  'día',\n",
       "  'tenemos',\n",
       "  'la',\n",
       "  'presentación',\n",
       "  ',',\n",
       "  'discus',\n",
       "  'ión',\n",
       "  'y',\n",
       "  ',',\n",
       "  'en',\n",
       "  'su',\n",
       "  'caso',\n",
       "  ',',\n",
       "  'aprobación',\n",
       "  'de',\n",
       "  'las',\n",
       "  'actas',\n",
       "  'correspondientes',\n",
       "  'a',\n",
       "  'la',\n",
       "  'cuadragésima',\n",
       "  'cuarta',\n",
       "  'y',\n",
       "  'cuad',\n",
       "  'ragésima',\n",
       "  'quinta',\n",
       "  'sesiones',\n",
       "  'ordinaria',\n",
       "  'del',\n",
       "  ...]]"
      ]
     },
     "execution_count": 71,
     "metadata": {},
     "output_type": "execute_result"
    }
   ],
   "source": [
    "#\n",
    "\n",
    "paddedLine = [ list( pad_both_ends( word_tokenize(contenido), n = 2) ) ]\n",
    "\n",
    "paddedLine #paddedLine[0][-1], paddedLine[0][0] "
   ]
  },
  {
   "cell_type": "code",
   "execution_count": 72,
   "metadata": {},
   "outputs": [],
   "source": [
    "#\n",
    "\n",
    "train, vocab = padded_everygram_pipeline(5, paddedLine)"
   ]
  },
  {
   "cell_type": "code",
   "execution_count": 74,
   "metadata": {},
   "outputs": [],
   "source": [
    "#\n",
    "\n",
    "lm = MLE(5)\n",
    "\n",
    "lm.fit(train, vocab)"
   ]
  },
  {
   "cell_type": "code",
   "execution_count": 75,
   "metadata": {},
   "outputs": [
    {
     "name": "stdout",
     "output_type": "stream",
     "text": [
      "<NgramCounter with 5 ngram orders and 20940 ngrams>\n"
     ]
    }
   ],
   "source": [
    "#\n",
    "\n",
    "print(lm.counts)"
   ]
  },
  {
   "cell_type": "code",
   "execution_count": 76,
   "metadata": {},
   "outputs": [
    {
     "data": {
      "text/plain": [
       "913"
      ]
     },
     "execution_count": 76,
     "metadata": {},
     "output_type": "execute_result"
    }
   ],
   "source": [
    "#\n",
    "\n",
    "len(lm.vocab)"
   ]
  },
  {
   "cell_type": "code",
   "execution_count": 80,
   "metadata": {},
   "outputs": [
    {
     "data": {
      "text/plain": [
       "'ley'"
      ]
     },
     "execution_count": 80,
     "metadata": {},
     "output_type": "execute_result"
    }
   ],
   "source": [
    "#\n",
    "\n",
    "lm.vocab.lookup('ley')"
   ]
  },
  {
   "cell_type": "code",
   "execution_count": 84,
   "metadata": {},
   "outputs": [
    {
     "data": {
      "text/plain": [
       "0.0"
      ]
     },
     "execution_count": 84,
     "metadata": {},
     "output_type": "execute_result"
    }
   ],
   "source": [
    "#\n",
    "\n",
    "lm.score(\"reglas\")"
   ]
  },
  {
   "cell_type": "code",
   "execution_count": 85,
   "metadata": {},
   "outputs": [
    {
     "data": {
      "text/plain": [
       "14"
      ]
     },
     "execution_count": 85,
     "metadata": {},
     "output_type": "execute_result"
    }
   ],
   "source": [
    "# \n",
    "\n",
    "lm.counts['ley']"
   ]
  },
  {
   "cell_type": "code",
   "execution_count": 86,
   "metadata": {},
   "outputs": [
    {
     "data": {
      "text/plain": [
       "0.003341288782816229"
      ]
     },
     "execution_count": 86,
     "metadata": {},
     "output_type": "execute_result"
    }
   ],
   "source": [
    "#\n",
    "\n",
    "lm.score(\"ley\")"
   ]
  },
  {
   "cell_type": "code",
   "execution_count": 87,
   "metadata": {},
   "outputs": [
    {
     "data": {
      "text/plain": [
       "'asimismo'"
      ]
     },
     "execution_count": 87,
     "metadata": {},
     "output_type": "execute_result"
    }
   ],
   "source": [
    "#\n",
    "\n",
    "lm.generate(1, random_seed = 3)"
   ]
  },
  {
   "cell_type": "code",
   "execution_count": 88,
   "metadata": {},
   "outputs": [
    {
     "data": {
      "text/plain": [
       "['asimismo', ',', 'deberán', 'publicar', 'en']"
      ]
     },
     "execution_count": 88,
     "metadata": {},
     "output_type": "execute_result"
    }
   ],
   "source": [
    "#\n",
    "\n",
    "lm.generate(5, random_seed = 3)"
   ]
  },
  {
   "cell_type": "code",
   "execution_count": 93,
   "metadata": {},
   "outputs": [
    {
     "data": {
      "text/plain": [
       "['en',\n",
       " 'el',\n",
       " 'diario',\n",
       " 'oficial',\n",
       " 'de',\n",
       " 'la',\n",
       " 'federa',\n",
       " 'ción',\n",
       " ',',\n",
       " 'en',\n",
       " 'la',\n",
       " 'fecha',\n",
       " 'antes',\n",
       " 'señalada',\n",
       " ',',\n",
       " 'la',\n",
       " 'estructura',\n",
       " 'ocupacional',\n",
       " 'que',\n",
       " 'contenga']"
      ]
     },
     "execution_count": 93,
     "metadata": {},
     "output_type": "execute_result"
    }
   ],
   "source": [
    "#\n",
    "\n",
    "lm.generate(20, text_seed = ['publicar'], random_seed=3)"
   ]
  },
  {
   "cell_type": "code",
   "execution_count": null,
   "metadata": {},
   "outputs": [],
   "source": []
  },
  {
   "cell_type": "code",
   "execution_count": null,
   "metadata": {},
   "outputs": [],
   "source": []
  },
  {
   "cell_type": "code",
   "execution_count": null,
   "metadata": {},
   "outputs": [],
   "source": []
  }
 ],
 "metadata": {
  "colab": {
   "provenance": []
  },
  "kernelspec": {
   "display_name": "Python 3 (ipykernel)",
   "language": "python",
   "name": "python3"
  },
  "language_info": {
   "codemirror_mode": {
    "name": "ipython",
    "version": 3
   },
   "file_extension": ".py",
   "mimetype": "text/x-python",
   "name": "python",
   "nbconvert_exporter": "python",
   "pygments_lexer": "ipython3",
   "version": "3.10.4"
  }
 },
 "nbformat": 4,
 "nbformat_minor": 1
}
