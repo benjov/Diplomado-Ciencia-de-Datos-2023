{
 "cells": [
  {
   "cell_type": "markdown",
   "metadata": {},
   "source": [
    "# Expresiones regulares de Python \n",
    "\n",
    "## Introducción a NLP\n",
    "\n",
    "Actualización a febrero de 2024"
   ]
  },
  {
   "cell_type": "markdown",
   "metadata": {},
   "source": [
    "Las expresiones regulares son un lenguaje potente para hacer coincidir patrones de texto.\n",
    "\n",
    "Aquí ofrecemos una introducción básica a las expresiones regulares, suficiente para nuestros ejercicios.\n",
    "\n",
    "Mostramos cómo funcionan las expresiones regulares en Python. \n",
    "\n",
    "El módulo “re” de Python proporciona compatibilidad con expresiones regulares.\n"
   ]
  },
  {
   "cell_type": "code",
   "execution_count": 1,
   "metadata": {},
   "outputs": [],
   "source": [
    "# Dependencies\n",
    "import pandas as pd\n",
    "pd.set_option('display.max_columns', 200)\n",
    "import re\n",
    "\n",
    "#\n",
    "import warnings\n",
    "warnings.filterwarnings('ignore')"
   ]
  },
  {
   "cell_type": "code",
   "execution_count": 2,
   "metadata": {},
   "outputs": [],
   "source": [
    "#!pip install pip\n",
    "#!pip install re"
   ]
  },
  {
   "cell_type": "code",
   "execution_count": 3,
   "metadata": {},
   "outputs": [],
   "source": [
    "# Opciones de visualizació de cifras:\n",
    "pd.options.display.float_format = '{:,.2f}'.format #'${:,.2f}'"
   ]
  },
  {
   "cell_type": "markdown",
   "metadata": {},
   "source": [
    "## En Python, una búsqueda de expresiones regulares suele escribirse de la siguiente manera:\n",
    "\n",
    "match = re.search( pat, str )\n",
    "\n",
    "El método re.search() toma un patrón de expresión regular y una cadena de texto, y busca ese patrón dentro de la cadena. \n",
    "\n",
    "Si la búsqueda es exitosa, search() devuelve un objeto de coincidencia o None en caso contrario. \n",
    "\n",
    "Por lo tanto, la búsqueda suele ir inmediatamente seguida de una sentencia if para probar si la búsqueda se realizó correctamente (más información https://docs.python.org/3/library/re.html).\n",
    "\n",
    "Acá un ejemplo que busca el patrón \"word:\" seguido de una palabra de 3 letras (los detalles se muestran a continuación):"
   ]
  },
  {
   "cell_type": "code",
   "execution_count": 4,
   "metadata": {},
   "outputs": [
    {
     "data": {
      "text/plain": [
       "'word'"
      ]
     },
     "execution_count": 4,
     "metadata": {},
     "output_type": "execute_result"
    }
   ],
   "source": [
    "#\n",
    "Texto = 'an example word:cat!!'\n",
    "\n",
    "match = re.search(r'word', Texto )\n",
    "\n",
    "#match \n",
    "match.group()"
   ]
  },
  {
   "cell_type": "code",
   "execution_count": 5,
   "metadata": {},
   "outputs": [
    {
     "data": {
      "text/plain": [
       "'word:cat'"
      ]
     },
     "execution_count": 5,
     "metadata": {},
     "output_type": "execute_result"
    }
   ],
   "source": [
    "#\n",
    "Texto = 'an example word:cat!!'\n",
    "\n",
    "match = re.search(r'word:\\w\\w\\w', Texto )\n",
    "\n",
    "match.group()"
   ]
  },
  {
   "cell_type": "code",
   "execution_count": 6,
   "metadata": {},
   "outputs": [
    {
     "name": "stdout",
     "output_type": "stream",
     "text": [
      "found word:cat\n"
     ]
    }
   ],
   "source": [
    "#\n",
    "Texto = 'an example word:cat!!'\n",
    "\n",
    "match = re.search(r'word:\\w\\w\\w', Texto )\n",
    "\n",
    "# If-statement after search() tests if it succeeded\n",
    "if match:\n",
    "    print( 'found', match.group() ) ## 'found word:cat'\n",
    "else:\n",
    "    print('did not find')"
   ]
  },
  {
   "cell_type": "code",
   "execution_count": 7,
   "metadata": {},
   "outputs": [],
   "source": [
    "# Ejercicio...\n",
    "\n"
   ]
  },
  {
   "cell_type": "code",
   "execution_count": 8,
   "metadata": {},
   "outputs": [],
   "source": [
    "# Ejercicio...\n",
    "\n"
   ]
  },
  {
   "cell_type": "markdown",
   "metadata": {},
   "source": [
    "### Patrones básicos\n",
    "\n",
    "El poder de las expresiones regulares es que pueden especificar patrones, no solo caracteres fijos. Estos son los patrones más básicos que coinciden con caracteres individuales:\n",
    "\n",
    ". (un punto): coincide con cualquier carácter único, excepto la línea nueva '\\n'\n",
    "\n",
    "\\w -- (w minúscula) coincide con un carácter \"palabra\": una letra o un dígito o debajo de una barra [a-zA-Z0-9_ ].\n",
    "\n",
    "Ten en cuenta que, aunque \"word\" es el nombre mnemotécnico de esta palabra, solo coincide con el carácter de una sola palabra, no con una palabra completa. \n",
    "\n",
    "\\W -- (W mayúscula) coincide con cualquier carácter que no sea una palabra.\n",
    "\n",
    "\\b: límite entre una palabra y una que no lo es\n",
    "\n",
    "\\s -- (s minúscula) coincide con un solo carácter de espacio en blanco: espacio, línea nueva, retorno, tabulación, forma [ \\n\\r\\t\\f]. \n",
    "\n",
    "\\S -- (S mayúscula) coincide con cualquier carácter que no sea un espacio en blanco.\n",
    "\n",
    "\\t, \\n, \\r -- tabulación, nueva línea, volver\n",
    "\n",
    "\\d -- dígito decimal [0-9] \n",
    "\n",
    "^ = inicio, $ = fin -- coincide con el principio o el final de la cadena\n",
    "\n",
    "\\ -- inhiben la \"especialidad\" de un carácter. Por ejemplo, usa \\. para que coincida con un punto o \\\\ para que coincida con una barra. Si no estás seguro de si un carácter tiene un significado especial, como '@', puedes intentar colocar una barra delantera, \\@. Si no es una secuencia de escape válida, como \\c, tu programa Python se detendrá con un error."
   ]
  },
  {
   "cell_type": "code",
   "execution_count": 9,
   "metadata": {},
   "outputs": [
    {
     "data": {
      "text/plain": [
       "'iii'"
      ]
     },
     "execution_count": 9,
     "metadata": {},
     "output_type": "execute_result"
    }
   ],
   "source": [
    "## Search for pattern 'iii' in string 'piiig'.\n",
    "## All of the pattern must match, but it may appear anywhere.\n",
    "## On success, match.group() is matched text.\n",
    "\n",
    "match = re.search(r'iii', 'piiig') # found, match.group() == \"iii\"\n",
    "\n",
    "match.group()"
   ]
  },
  {
   "cell_type": "code",
   "execution_count": 10,
   "metadata": {},
   "outputs": [
    {
     "ename": "AttributeError",
     "evalue": "'NoneType' object has no attribute 'group'",
     "output_type": "error",
     "traceback": [
      "\u001b[0;31m---------------------------------------------------------------------------\u001b[0m",
      "\u001b[0;31mAttributeError\u001b[0m                            Traceback (most recent call last)",
      "Input \u001b[0;32mIn [10]\u001b[0m, in \u001b[0;36m<cell line: 5>\u001b[0;34m()\u001b[0m\n\u001b[1;32m      1\u001b[0m \u001b[38;5;66;03m#\u001b[39;00m\n\u001b[1;32m      3\u001b[0m match \u001b[38;5;241m=\u001b[39m re\u001b[38;5;241m.\u001b[39msearch(\u001b[38;5;124mr\u001b[39m\u001b[38;5;124m'\u001b[39m\u001b[38;5;124migs\u001b[39m\u001b[38;5;124m'\u001b[39m, \u001b[38;5;124m'\u001b[39m\u001b[38;5;124mpiiig\u001b[39m\u001b[38;5;124m'\u001b[39m) \u001b[38;5;66;03m# not found, match == None\u001b[39;00m\n\u001b[0;32m----> 5\u001b[0m \u001b[38;5;28;43;01mmatch\u001b[39;49;00m\u001b[38;5;241;43m.\u001b[39;49m\u001b[43mgroup\u001b[49m()\n",
      "\u001b[0;31mAttributeError\u001b[0m: 'NoneType' object has no attribute 'group'"
     ]
    }
   ],
   "source": [
    "#\n",
    "\n",
    "match = re.search(r'igs', 'piiig') # not found, match == None\n",
    "\n",
    "match.group()"
   ]
  },
  {
   "cell_type": "code",
   "execution_count": 11,
   "metadata": {},
   "outputs": [
    {
     "data": {
      "text/plain": [
       "'iig'"
      ]
     },
     "execution_count": 11,
     "metadata": {},
     "output_type": "execute_result"
    }
   ],
   "source": [
    "## . = any char but \\n\n",
    "\n",
    "match = re.search(r'..g', 'piiiig') # found, match.group() == \"iig\"\n",
    "\n",
    "match.group()"
   ]
  },
  {
   "cell_type": "code",
   "execution_count": 12,
   "metadata": {},
   "outputs": [
    {
     "data": {
      "text/plain": [
       "'123'"
      ]
     },
     "execution_count": 12,
     "metadata": {},
     "output_type": "execute_result"
    }
   ],
   "source": [
    "## \\d = digit char, \\w = word char\n",
    "\n",
    "match = re.search(r'\\d\\d\\d', 'p123g') # found, match.group() == \"123\"\n",
    "\n",
    "match.group()"
   ]
  },
  {
   "cell_type": "code",
   "execution_count": 13,
   "metadata": {},
   "outputs": [
    {
     "data": {
      "text/plain": [
       "'abc'"
      ]
     },
     "execution_count": 13,
     "metadata": {},
     "output_type": "execute_result"
    }
   ],
   "source": [
    "## \\d = digit char, \\w = word char\n",
    "\n",
    "match = re.search(r'\\w\\w\\w', '@@abcd!!') # found, match.group() == \"abc\"\n",
    "\n",
    "match.group()"
   ]
  },
  {
   "cell_type": "markdown",
   "metadata": {},
   "source": [
    "#### Repetición\n",
    "\n",
    "Todo se vuelve más interesante cuando utilizas + y * para especificar la repetición en el patrón.\n",
    "\n",
    "$+$ -- 1 o más apariciones del patrón a la izquierda, por ejemplo, \"i+\" = una o más i\n",
    "\n",
    "$*$ -- 0 o más apariciones del patrón a la izquierda\n",
    "\n",
    "? -- coinciden con 0 o 1 casos del patrón a la izquierda.\n",
    "\n",
    "##### Más a la izquierda y más grande\n",
    "\n",
    "Primero, la búsqueda encuentra la coincidencia que se encuentra más a la izquierda para el patrón y, en segundo lugar, intenta usar la mayor cantidad de cadenas posible; es decir, los signos + y * van lo más lejos posible (se dice que los signos + y * son \"codiciosos\").\n",
    "\n",
    "#### Ejemplos de repetición"
   ]
  },
  {
   "cell_type": "code",
   "execution_count": 14,
   "metadata": {},
   "outputs": [
    {
     "data": {
      "text/plain": [
       "'piiii'"
      ]
     },
     "execution_count": 14,
     "metadata": {},
     "output_type": "execute_result"
    }
   ],
   "source": [
    "## i+ = one or more i's, as many as possible.\n",
    "\n",
    "match = re.search(r'pi+', 'piiiig') # found, match.group() == \"piii\"\n",
    "\n",
    "match.group()"
   ]
  },
  {
   "cell_type": "code",
   "execution_count": 15,
   "metadata": {},
   "outputs": [
    {
     "data": {
      "text/plain": [
       "'ii'"
      ]
     },
     "execution_count": 15,
     "metadata": {},
     "output_type": "execute_result"
    }
   ],
   "source": [
    "# Finds the first/leftmost solution, and within it drives the +\n",
    "## as far as possible (aka 'leftmost and largest').\n",
    "## In this example, note that it does not get to the second set of i's.\n",
    "\n",
    "match = re.search(r'i+', 'piigiiii') # found, match.group() == \"ii\"\n",
    "\n",
    "match.group()"
   ]
  },
  {
   "cell_type": "code",
   "execution_count": 16,
   "metadata": {},
   "outputs": [
    {
     "data": {
      "text/plain": [
       "'1 2   3'"
      ]
     },
     "execution_count": 16,
     "metadata": {},
     "output_type": "execute_result"
    }
   ],
   "source": [
    "## \\s* = zero or more whitespace chars\n",
    "## Here look for 3 digits, possibly separated by whitespace.\n",
    "\n",
    "match = re.search(r'\\d\\s*\\d\\s*\\d', 'xx1 2   3xx') # found, match.group() == \"1 2   3\"\n",
    "\n",
    "match.group()"
   ]
  },
  {
   "cell_type": "code",
   "execution_count": 17,
   "metadata": {},
   "outputs": [
    {
     "data": {
      "text/plain": [
       "'12  3'"
      ]
     },
     "execution_count": 17,
     "metadata": {},
     "output_type": "execute_result"
    }
   ],
   "source": [
    "#\n",
    "\n",
    "match = re.search(r'\\d\\s*\\d\\s*\\d', 'xx12  3xx') # found, match.group() == \"12  3\"\n",
    "\n",
    "match.group()"
   ]
  },
  {
   "cell_type": "code",
   "execution_count": 18,
   "metadata": {},
   "outputs": [
    {
     "data": {
      "text/plain": [
       "'123'"
      ]
     },
     "execution_count": 18,
     "metadata": {},
     "output_type": "execute_result"
    }
   ],
   "source": [
    "#\n",
    "\n",
    "match = re.search(r'\\d\\s*\\d\\s*\\d', 'xx123xx') # found, match.group() == \"123\"\n",
    "\n",
    "match.group()"
   ]
  },
  {
   "cell_type": "markdown",
   "metadata": {},
   "source": [
    "#### Ejemplo de correos electrónicos\n",
    "\n",
    "Supongamos que quieres encontrar la dirección de correo electrónico dentro de la cadena \"purple alice-b@google.com monkey dishwasher\". \n",
    "\n",
    "Usaremos esto como un ejemplo en ejecución para demostrar más funciones de expresiones regulares. \n",
    "\n",
    "\n",
    "En este intento, se usa el patrón r'\\w+@\\w+':"
   ]
  },
  {
   "cell_type": "code",
   "execution_count": 19,
   "metadata": {},
   "outputs": [
    {
     "data": {
      "text/plain": [
       "'b@google'"
      ]
     },
     "execution_count": 19,
     "metadata": {},
     "output_type": "execute_result"
    }
   ],
   "source": [
    "#\n",
    "\n",
    "Texto = 'purple alice-b@google.com monkey dishwasher'\n",
    "\n",
    "match = re.search( r'\\w+@\\w+', Texto )\n",
    "\n",
    "#if match:\n",
    "#    print(match.group())  ## 'b@google'\n",
    "\n",
    "match.group()"
   ]
  },
  {
   "cell_type": "markdown",
   "metadata": {},
   "source": [
    "En este caso, la búsqueda no obtiene la dirección de correo electrónico completa porque la “\\w” no coincide con el “-” o el “.” de la dirección. \n",
    "\n",
    "Solucionaremos este problema con las funciones de expresiones regulares que aparecen a continuación.\n",
    "\n",
    "#### Corchetes\n",
    "\n",
    "Se pueden usar corchetes para indicar un conjunto de caracteres, por lo que [abc] coincide con “a”, “b” o “c”. Los códigos \\w, \\s, etc. también funcionan entre corchetes, con la excepción de que el punto (.) solo se refiere a un punto literal. \n",
    "\n",
    "Para el problema de los correos electrónicos, los corchetes son una forma fácil de agregar “.” y “-” al conjunto de caracteres que pueden aparecer alrededor de la @ con el patrón r'[\\w.-]+@[\\w.-]+' para obtener toda la dirección de correo electrónico:"
   ]
  },
  {
   "cell_type": "code",
   "execution_count": 20,
   "metadata": {},
   "outputs": [
    {
     "data": {
      "text/plain": [
       "'alice-b@google.com'"
      ]
     },
     "execution_count": 20,
     "metadata": {},
     "output_type": "execute_result"
    }
   ],
   "source": [
    "#\n",
    "\n",
    "Texto = 'purple alice-b@google.com monkey dishwasher'\n",
    "\n",
    "match = re.search( r'[\\w.-]+@[\\w.-]+', Texto )\n",
    "\n",
    "#if match:\n",
    "#    print(match.group())  ## 'alice-b@google.com'\n",
    "    \n",
    "match.group()"
   ]
  },
  {
   "cell_type": "markdown",
   "metadata": {},
   "source": [
    "#### Más funciones entre corchetes\n",
    "\n",
    "También puedes usar un guion para indicar un rango, de modo que [a-z] coincida con todas las letras minúsculas. \n",
    "\n",
    "Para usar un guion sin indicar un rango, coloca el guion en último lugar; p.ej., [abc-]. \n",
    "\n",
    "Un sombrero arriba (^) al comienzo de un conjunto de corchetes (^) lo invierte, de modo que [^ab] significa cualquier carácter excepto “a” o “b”."
   ]
  },
  {
   "cell_type": "code",
   "execution_count": 21,
   "metadata": {},
   "outputs": [],
   "source": [
    "# Ejercicio...\n",
    "\n"
   ]
  },
  {
   "cell_type": "code",
   "execution_count": 22,
   "metadata": {},
   "outputs": [],
   "source": [
    "# Ejercicio...\n",
    "\n"
   ]
  },
  {
   "cell_type": "markdown",
   "metadata": {},
   "source": [
    "#### Extracción de grupos\n",
    "\n",
    "La función \"group()\" de una expresión regular te permite seleccionar partes del texto coincidente. \n",
    "\n",
    "Supongamos que, para el problema de los correos electrónicos, queremos extraer el nombre de usuario y el host por separado. \n",
    "\n",
    "Para hacerlo, agrega paréntesis ( ) alrededor del nombre de usuario y host en el patrón, de esta manera: r'([\\w.-]+)@([\\w.-]+)'. En este caso, los paréntesis no cambian con qué coincidirá el patrón, sino que establecen \"grupos\" lógicos dentro del texto de coincidencia. \n",
    "\n",
    "En una búsqueda correcta, match.group(1) es el texto de coincidencia correspondiente al primer paréntesis izquierdo y match.group(2) es el texto correspondiente al segundo paréntesis izquierdo. \n",
    "\n",
    "El match.group() sin formato sigue siendo el texto completo de coincidencia, como es habitual."
   ]
  },
  {
   "cell_type": "code",
   "execution_count": 23,
   "metadata": {},
   "outputs": [
    {
     "name": "stdout",
     "output_type": "stream",
     "text": [
      "alice-b@google.com\n",
      "alice-b\n",
      "google.com\n"
     ]
    }
   ],
   "source": [
    "#\n",
    "\n",
    "Texto = 'purple alice-b@google.com monkey dishwasher'\n",
    "\n",
    "match = re.search(r'([\\w.-]+)@([\\w.-]+)', Texto)\n",
    "\n",
    "if match:\n",
    "    print(match.group())   ## 'alice-b@google.com' (the whole match)\n",
    "    print(match.group(1))  ## 'alice-b' (the username, group 1)\n",
    "    print(match.group(2))  ## 'google.com' (the host, group 2)"
   ]
  },
  {
   "cell_type": "markdown",
   "metadata": {},
   "source": [
    "Un flujo de trabajo común con expresiones regulares es escribir un patrón para lo que estás buscando y agregar grupos de paréntesis para extraer las partes que deseas.\n",
    "\n",
    "#### findall -- encontrartodo\n",
    "\n",
    "findall() es probablemente la función más poderosa del módulo re. \n",
    "\n",
    "Arriba usamos re.search() para encontrar la primera coincidencia de un patrón. \n",
    "\n",
    "findall() encuentra *todas* las coincidencias y las muestra como una lista de cadenas, donde cada cadena representa una coincidencia."
   ]
  },
  {
   "cell_type": "code",
   "execution_count": 24,
   "metadata": {},
   "outputs": [
    {
     "data": {
      "text/plain": [
       "['alice@google.com', 'bob@abc.com']"
      ]
     },
     "execution_count": 24,
     "metadata": {},
     "output_type": "execute_result"
    }
   ],
   "source": [
    "## Suppose we have a text with many email addresses\n",
    "\n",
    "Texto = 'purple alice@google.com, blah monkey bob@abc.com blah dishwasher'\n",
    "\n",
    "## Here re.findall() returns a list of all the found email strings\n",
    "\n",
    "emails = re.findall(r'[\\w\\.-]+@[\\w\\.-]+', Texto) ## ['alice@google.com', 'bob@abc.com']\n",
    "\n",
    "#for email in emails:\n",
    "#    # do something with each found email string\n",
    "#    print(email)\n",
    "\n",
    "emails"
   ]
  },
  {
   "cell_type": "markdown",
   "metadata": {},
   "source": [
    "#### findall con Files\n",
    "\n",
    "Para los archivos, es posible que tu plan sea escribir un bucle para iterar sobre las líneas del archivo y, luego, podrías llamar a findall() en cada línea. \n",
    "\n",
    "En su lugar, deja que findall() haga la iteración por ti, ¡mucho mejor! \n",
    "\n",
    "Simplemente ingresa todo el texto del archivo en findall() y deja que devuelva una lista de todas las coincidencias en un solo paso (recuerda que f.read() devuelve todo el texto de un archivo en una sola cadena):"
   ]
  },
  {
   "cell_type": "code",
   "execution_count": 32,
   "metadata": {},
   "outputs": [
    {
     "data": {
      "text/plain": [
       "['VERSIÓN',\n",
       " 'VERSIÓN',\n",
       " 'VERSIÓN',\n",
       " 'VERSIÓN',\n",
       " 'VERSIÓN',\n",
       " 'VERSIÓN',\n",
       " 'VERSIÓN',\n",
       " 'VERSIÓN',\n",
       " 'VERSIÓN',\n",
       " 'VERSIÓN']"
      ]
     },
     "execution_count": 32,
     "metadata": {},
     "output_type": "execute_result"
    }
   ],
   "source": [
    "# Open file\n",
    "\n",
    "f = open('VEP_20230105_1.txt', encoding = 'utf-8')\n",
    "\n",
    "# Feed the file text into findall(); it returns a list of all the found strings\n",
    "\n",
    "strings = re.findall(r'VERSIÓN', f.read())\n",
    "\n",
    "strings"
   ]
  },
  {
   "cell_type": "code",
   "execution_count": 33,
   "metadata": {},
   "outputs": [
    {
     "data": {
      "text/plain": [
       "10"
      ]
     },
     "execution_count": 33,
     "metadata": {},
     "output_type": "execute_result"
    }
   ],
   "source": [
    "len(strings)"
   ]
  },
  {
   "cell_type": "markdown",
   "metadata": {},
   "source": [
    "#### findall y Grupos\n",
    "\n",
    "El mecanismo de grupo de paréntesis ( ) se puede combinar con findall(). \n",
    "\n",
    "Si el patrón incluye 2 o más grupos de paréntesis, entonces en lugar de devolver una lista de cadenas, findall() devuelve una lista de *tuplas*. \n",
    "\n",
    "Cada tupla representa una coincidencia del patrón y, dentro de la tupla, están los datos group(1), group(2). \n",
    "\n",
    "\n",
    "Por lo tanto, si se agregan 2 grupos de paréntesis al patrón de correo electrónico, findall() devuelve una lista de tuplas, cada una de las cuales contiene el nombre de usuario y el host, p.ej., (\"alice\", \"google.com\")."
   ]
  },
  {
   "cell_type": "code",
   "execution_count": 39,
   "metadata": {},
   "outputs": [
    {
     "name": "stdout",
     "output_type": "stream",
     "text": [
      "alice\n",
      "google.com\n",
      "bob\n",
      "abc.com\n",
      "benjov\n",
      "ciencias.unam.mx\n"
     ]
    }
   ],
   "source": [
    "#\n",
    "\n",
    "Texto = 'purple alice@google.com, blah monkey bob@abc.com blah dishwasher benjov@ciencias.unam.mx '\n",
    "\n",
    "tuples = re.findall(r'([\\w\\.-]+)@([\\w\\.-]+)', Texto)\n",
    "\n",
    "for tuple in tuples:\n",
    "    print(tuple[0])  ## username\n",
    "    print(tuple[1])  ## host\n",
    "\n",
    "#tuples  ## [('alice', 'google.com'), ('bob', 'abc.com')]\n",
    "#tuples[0][1]"
   ]
  },
  {
   "cell_type": "markdown",
   "metadata": {},
   "source": [
    "Una vez que tengas la lista de tuplas, puedes realizar un bucle sobre ella para hacer algunos cálculos por cada tupla. \n",
    "\n",
    "Si el patrón no incluye paréntesis, entonces findall() devuelve una lista de cadenas encontradas, como en los ejemplos anteriores. \n",
    "\n",
    "Si el patrón incluye un solo conjunto de paréntesis, findall() devuelve una lista de cadenas correspondientes a ese único grupo. \n",
    "\n",
    "(Función opcional clara: a veces hay grupos de paréntesis ( ) en el patrón, pero no es recomendable extraerlos. En ese caso, escribe los paréntesis con un ?: al comienzo, p.ej., (?: ) y ese paréntesis izquierdo no contará como un resultado grupal."
   ]
  },
  {
   "cell_type": "code",
   "execution_count": null,
   "metadata": {},
   "outputs": [],
   "source": []
  },
  {
   "cell_type": "code",
   "execution_count": null,
   "metadata": {},
   "outputs": [],
   "source": []
  },
  {
   "cell_type": "code",
   "execution_count": null,
   "metadata": {},
   "outputs": [],
   "source": []
  }
 ],
 "metadata": {
  "kernelspec": {
   "display_name": "Python 3 (ipykernel)",
   "language": "python",
   "name": "python3"
  },
  "language_info": {
   "codemirror_mode": {
    "name": "ipython",
    "version": 3
   },
   "file_extension": ".py",
   "mimetype": "text/x-python",
   "name": "python",
   "nbconvert_exporter": "python",
   "pygments_lexer": "ipython3",
   "version": "3.10.4"
  }
 },
 "nbformat": 4,
 "nbformat_minor": 2
}
