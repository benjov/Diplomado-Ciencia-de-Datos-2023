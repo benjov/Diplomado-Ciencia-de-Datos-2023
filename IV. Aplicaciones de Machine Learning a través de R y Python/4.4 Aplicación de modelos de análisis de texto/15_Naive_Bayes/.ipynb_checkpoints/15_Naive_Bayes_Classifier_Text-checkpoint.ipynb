{
 "cells": [
  {
   "cell_type": "markdown",
   "metadata": {},
   "source": [
    "# **Naive Bayes Classifier in Python** <a class=\"anchor\" id=\"0\"></a>\n",
    "\n",
    "El clasificador Naïve Bayes es un algoritmo sencillo y potente para la tarea de clasificación. \n",
    "\n",
    "Usaremos las herramietas de Scikit-Learn para implementar el algoritmo de clasificación Naive Bayes.\n",
    "\n",
    "**Objetivo**: Clasificar noticias. Se le proporciona un dataset con noticias ya clasificadas en tres categorías: ocio, tecnología y cultura."
   ]
  },
  {
   "cell_type": "markdown",
   "metadata": {},
   "source": [
    "# Outline\n",
    "\n",
    "Realizaremos éste modelo en tres pasos: \n",
    "\n",
    "1) Obtención de datos, filtrado y vectorización.\n",
    "\n",
    "2) Implementar un transformador, para convertir a array los datos.\n",
    "\n",
    "3) Crear el modelo de clasificador Naive Bayes en Python con distribución Gaussiana y guardarlo en formato Pickle para su posterior uso.\n",
    "\n",
    "4) Teniendo ya nuestro modelo entrenado podremos hacer pruebas con cualquier noticia."
   ]
  },
  {
   "cell_type": "markdown",
   "metadata": {},
   "source": [
    "# Import libraries"
   ]
  },
  {
   "cell_type": "code",
   "execution_count": 1,
   "metadata": {},
   "outputs": [],
   "source": [
    "# Dependencies\n",
    "\n",
    "import numpy as np \n",
    "import pandas as pd \n",
    "import matplotlib.pyplot as plt \n",
    "import seaborn as sns \n",
    "from sklearn.feature_extraction.text import TfidfVectorizer\n",
    "import json\n",
    "from sklearn.base import BaseEstimator\n",
    "from scipy.sparse import issparse\n",
    "from sklearn.naive_bayes import GaussianNB\n",
    "# Un pipeline es un conjunto de tuberias o flujos que parten de una entrada (datos) \n",
    "# hacia una salida (modelo)\n",
    "from sklearn.pipeline import make_pipeline\n",
    "from sklearn.metrics import accuracy_score\n",
    "from sklearn.metrics import confusion_matrix\n",
    "from sklearn.metrics import classification_report\n",
    "import pickle\n",
    "\n",
    "#\n",
    "import warnings\n",
    "warnings.filterwarnings('ignore')"
   ]
  },
  {
   "cell_type": "code",
   "execution_count": 2,
   "metadata": {},
   "outputs": [],
   "source": [
    "#!pip install category_encoders"
   ]
  },
  {
   "cell_type": "markdown",
   "metadata": {},
   "source": [
    "# Import dataset"
   ]
  },
  {
   "cell_type": "code",
   "execution_count": 3,
   "metadata": {},
   "outputs": [
    {
     "data": {
      "text/html": [
       "<div>\n",
       "<style scoped>\n",
       "    .dataframe tbody tr th:only-of-type {\n",
       "        vertical-align: middle;\n",
       "    }\n",
       "\n",
       "    .dataframe tbody tr th {\n",
       "        vertical-align: top;\n",
       "    }\n",
       "\n",
       "    .dataframe thead th {\n",
       "        text-align: right;\n",
       "    }\n",
       "</style>\n",
       "<table border=\"1\" class=\"dataframe\">\n",
       "  <thead>\n",
       "    <tr style=\"text-align: right;\">\n",
       "      <th></th>\n",
       "      <th>descripcion</th>\n",
       "      <th>categoria</th>\n",
       "    </tr>\n",
       "  </thead>\n",
       "  <tbody>\n",
       "    <tr>\n",
       "      <th>0</th>\n",
       "      <td>Aunque parezca mentira, las emisiones de dióxi...</td>\n",
       "      <td>cultura</td>\n",
       "    </tr>\n",
       "    <tr>\n",
       "      <th>1</th>\n",
       "      <td>Hubo un proyecto impulsado por la Unión Europe...</td>\n",
       "      <td>cultura</td>\n",
       "    </tr>\n",
       "    <tr>\n",
       "      <th>2</th>\n",
       "      <td>China ha confirmado la conclusión con éxito de...</td>\n",
       "      <td>tecnología</td>\n",
       "    </tr>\n",
       "    <tr>\n",
       "      <th>3</th>\n",
       "      <td>En su fructífera carrera como humorista, actor...</td>\n",
       "      <td>cultura</td>\n",
       "    </tr>\n",
       "    <tr>\n",
       "      <th>4</th>\n",
       "      <td>Tras dos años de negociación entre la instituc...</td>\n",
       "      <td>cultura</td>\n",
       "    </tr>\n",
       "  </tbody>\n",
       "</table>\n",
       "</div>"
      ],
      "text/plain": [
       "                                         descripcion   categoria\n",
       "0  Aunque parezca mentira, las emisiones de dióxi...     cultura\n",
       "1  Hubo un proyecto impulsado por la Unión Europe...     cultura\n",
       "2  China ha confirmado la conclusión con éxito de...  tecnología\n",
       "3  En su fructífera carrera como humorista, actor...     cultura\n",
       "4  Tras dos años de negociación entre la instituc...     cultura"
      ]
     },
     "execution_count": 3,
     "metadata": {},
     "output_type": "execute_result"
    }
   ],
   "source": [
    "# Consiste en noticias clasificadas que nos servirán para entrenar nuestro modelo.\n",
    "\n",
    "noticias = pd.read_csv(\"noticias.csv\")\n",
    "\n",
    "noticias.head()"
   ]
  },
  {
   "cell_type": "code",
   "execution_count": 4,
   "metadata": {},
   "outputs": [
    {
     "data": {
      "text/plain": [
       "'Aunque parezca mentira, las emisiones de dióxido de carbono (CO2) y nitrógeno atmosféricos han actuado como fertilizante y han hecho que la Tierra sea hoy más verde que hace 30 años, pero se está acabando: Los ecosistemas terrestres se han saturado y se encaminan ya a una época de mayor calentamiento. Esta es la principal conclusión de un estudio internacional publicado en Nature Ecology & Evolution. El trabajo avisa que la Tierra va a pasar de una época de fertilización a otra de calentamiento aún mayor.'"
      ]
     },
     "execution_count": 4,
     "metadata": {},
     "output_type": "execute_result"
    }
   ],
   "source": [
    "#\n",
    "\n",
    "noticias.descripcion[0]"
   ]
  },
  {
   "cell_type": "code",
   "execution_count": 5,
   "metadata": {},
   "outputs": [
    {
     "data": {
      "text/plain": [
       "categoria\n",
       "cultura       9001\n",
       "tecnología    4198\n",
       "ocio          3296\n",
       "Name: count, dtype: int64"
      ]
     },
     "execution_count": 5,
     "metadata": {},
     "output_type": "execute_result"
    }
   ],
   "source": [
    "#\n",
    "\n",
    "noticias.categoria.value_counts()"
   ]
  },
  {
   "cell_type": "code",
   "execution_count": null,
   "metadata": {},
   "outputs": [],
   "source": []
  },
  {
   "cell_type": "code",
   "execution_count": 6,
   "metadata": {},
   "outputs": [],
   "source": [
    "# Vamos a utilizar un listado de palabras que deseamos eliminar pues aportan poco o ningún \n",
    "# significado a la interpretación de las noticias. \n",
    "# Esas palabras, conocidas como stop-words.\n",
    "\n",
    "# Eliminar stopwords: palabras cuyo contenido no es muy relevante\n",
    "with open(\"stopwords-es.json\") as fname:\n",
    "    stopwords_es = json.load(fname)\n",
    "\n",
    "#stopwords_es"
   ]
  },
  {
   "cell_type": "code",
   "execution_count": 7,
   "metadata": {},
   "outputs": [
    {
     "data": {
      "text/plain": [
       "<16495x50000 sparse matrix of type '<class 'numpy.float64'>'\n",
       "\twith 384037 stored elements in Compressed Sparse Row format>"
      ]
     },
     "execution_count": 7,
     "metadata": {},
     "output_type": "execute_result"
    }
   ],
   "source": [
    "# Debido a que trabajamos con texto, tenemos que vectorizar, usaremos Tf-idf\n",
    "# Convert a collection of raw documents to a matrix of TF-IDF features.\n",
    "vectorizador = TfidfVectorizer( stop_words = stopwords_es, max_features = 50000 )\n",
    "\n",
    "# La transformamos en una matriz dispersa\n",
    "vectorizador.fit_transform( noticias.descripcion )"
   ]
  },
  {
   "cell_type": "code",
   "execution_count": 8,
   "metadata": {},
   "outputs": [
    {
     "data": {
      "text/html": [
       "<style>#sk-container-id-1 {color: black;background-color: white;}#sk-container-id-1 pre{padding: 0;}#sk-container-id-1 div.sk-toggleable {background-color: white;}#sk-container-id-1 label.sk-toggleable__label {cursor: pointer;display: block;width: 100%;margin-bottom: 0;padding: 0.3em;box-sizing: border-box;text-align: center;}#sk-container-id-1 label.sk-toggleable__label-arrow:before {content: \"▸\";float: left;margin-right: 0.25em;color: #696969;}#sk-container-id-1 label.sk-toggleable__label-arrow:hover:before {color: black;}#sk-container-id-1 div.sk-estimator:hover label.sk-toggleable__label-arrow:before {color: black;}#sk-container-id-1 div.sk-toggleable__content {max-height: 0;max-width: 0;overflow: hidden;text-align: left;background-color: #f0f8ff;}#sk-container-id-1 div.sk-toggleable__content pre {margin: 0.2em;color: black;border-radius: 0.25em;background-color: #f0f8ff;}#sk-container-id-1 input.sk-toggleable__control:checked~div.sk-toggleable__content {max-height: 200px;max-width: 100%;overflow: auto;}#sk-container-id-1 input.sk-toggleable__control:checked~label.sk-toggleable__label-arrow:before {content: \"▾\";}#sk-container-id-1 div.sk-estimator input.sk-toggleable__control:checked~label.sk-toggleable__label {background-color: #d4ebff;}#sk-container-id-1 div.sk-label input.sk-toggleable__control:checked~label.sk-toggleable__label {background-color: #d4ebff;}#sk-container-id-1 input.sk-hidden--visually {border: 0;clip: rect(1px 1px 1px 1px);clip: rect(1px, 1px, 1px, 1px);height: 1px;margin: -1px;overflow: hidden;padding: 0;position: absolute;width: 1px;}#sk-container-id-1 div.sk-estimator {font-family: monospace;background-color: #f0f8ff;border: 1px dotted black;border-radius: 0.25em;box-sizing: border-box;margin-bottom: 0.5em;}#sk-container-id-1 div.sk-estimator:hover {background-color: #d4ebff;}#sk-container-id-1 div.sk-parallel-item::after {content: \"\";width: 100%;border-bottom: 1px solid gray;flex-grow: 1;}#sk-container-id-1 div.sk-label:hover label.sk-toggleable__label {background-color: #d4ebff;}#sk-container-id-1 div.sk-serial::before {content: \"\";position: absolute;border-left: 1px solid gray;box-sizing: border-box;top: 0;bottom: 0;left: 50%;z-index: 0;}#sk-container-id-1 div.sk-serial {display: flex;flex-direction: column;align-items: center;background-color: white;padding-right: 0.2em;padding-left: 0.2em;position: relative;}#sk-container-id-1 div.sk-item {position: relative;z-index: 1;}#sk-container-id-1 div.sk-parallel {display: flex;align-items: stretch;justify-content: center;background-color: white;position: relative;}#sk-container-id-1 div.sk-item::before, #sk-container-id-1 div.sk-parallel-item::before {content: \"\";position: absolute;border-left: 1px solid gray;box-sizing: border-box;top: 0;bottom: 0;left: 50%;z-index: -1;}#sk-container-id-1 div.sk-parallel-item {display: flex;flex-direction: column;z-index: 1;position: relative;background-color: white;}#sk-container-id-1 div.sk-parallel-item:first-child::after {align-self: flex-end;width: 50%;}#sk-container-id-1 div.sk-parallel-item:last-child::after {align-self: flex-start;width: 50%;}#sk-container-id-1 div.sk-parallel-item:only-child::after {width: 0;}#sk-container-id-1 div.sk-dashed-wrapped {border: 1px dashed gray;margin: 0 0.4em 0.5em 0.4em;box-sizing: border-box;padding-bottom: 0.4em;background-color: white;}#sk-container-id-1 div.sk-label label {font-family: monospace;font-weight: bold;display: inline-block;line-height: 1.2em;}#sk-container-id-1 div.sk-label-container {text-align: center;}#sk-container-id-1 div.sk-container {/* jupyter's `normalize.less` sets `[hidden] { display: none; }` but bootstrap.min.css set `[hidden] { display: none !important; }` so we also need the `!important` here to be able to override the default hidden behavior on the sphinx rendered scikit-learn.org. See: https://github.com/scikit-learn/scikit-learn/issues/21755 */display: inline-block !important;position: relative;}#sk-container-id-1 div.sk-text-repr-fallback {display: none;}</style><div id=\"sk-container-id-1\" class=\"sk-top-container\"><div class=\"sk-text-repr-fallback\"><pre>TfidfVectorizer(max_features=50000,\n",
       "                stop_words=[&#x27;0&#x27;, &#x27;1&#x27;, &#x27;2&#x27;, &#x27;3&#x27;, &#x27;4&#x27;, &#x27;5&#x27;, &#x27;6&#x27;, &#x27;7&#x27;, &#x27;8&#x27;, &#x27;9&#x27;,\n",
       "                            &#x27;_&#x27;, &#x27;a&#x27;, &#x27;actualmente&#x27;, &#x27;acuerdo&#x27;, &#x27;adelante&#x27;,\n",
       "                            &#x27;ademas&#x27;, &#x27;además&#x27;, &#x27;adrede&#x27;, &#x27;afirmó&#x27;, &#x27;agregó&#x27;,\n",
       "                            &#x27;ahi&#x27;, &#x27;ahora&#x27;, &#x27;ahí&#x27;, &#x27;al&#x27;, &#x27;algo&#x27;, &#x27;alguna&#x27;,\n",
       "                            &#x27;algunas&#x27;, &#x27;alguno&#x27;, &#x27;algunos&#x27;, &#x27;algún&#x27;, ...])</pre><b>In a Jupyter environment, please rerun this cell to show the HTML representation or trust the notebook. <br />On GitHub, the HTML representation is unable to render, please try loading this page with nbviewer.org.</b></div><div class=\"sk-container\" hidden><div class=\"sk-item\"><div class=\"sk-estimator sk-toggleable\"><input class=\"sk-toggleable__control sk-hidden--visually\" id=\"sk-estimator-id-1\" type=\"checkbox\" checked><label for=\"sk-estimator-id-1\" class=\"sk-toggleable__label sk-toggleable__label-arrow\">TfidfVectorizer</label><div class=\"sk-toggleable__content\"><pre>TfidfVectorizer(max_features=50000,\n",
       "                stop_words=[&#x27;0&#x27;, &#x27;1&#x27;, &#x27;2&#x27;, &#x27;3&#x27;, &#x27;4&#x27;, &#x27;5&#x27;, &#x27;6&#x27;, &#x27;7&#x27;, &#x27;8&#x27;, &#x27;9&#x27;,\n",
       "                            &#x27;_&#x27;, &#x27;a&#x27;, &#x27;actualmente&#x27;, &#x27;acuerdo&#x27;, &#x27;adelante&#x27;,\n",
       "                            &#x27;ademas&#x27;, &#x27;además&#x27;, &#x27;adrede&#x27;, &#x27;afirmó&#x27;, &#x27;agregó&#x27;,\n",
       "                            &#x27;ahi&#x27;, &#x27;ahora&#x27;, &#x27;ahí&#x27;, &#x27;al&#x27;, &#x27;algo&#x27;, &#x27;alguna&#x27;,\n",
       "                            &#x27;algunas&#x27;, &#x27;alguno&#x27;, &#x27;algunos&#x27;, &#x27;algún&#x27;, ...])</pre></div></div></div></div></div>"
      ],
      "text/plain": [
       "TfidfVectorizer(max_features=50000,\n",
       "                stop_words=['0', '1', '2', '3', '4', '5', '6', '7', '8', '9',\n",
       "                            '_', 'a', 'actualmente', 'acuerdo', 'adelante',\n",
       "                            'ademas', 'además', 'adrede', 'afirmó', 'agregó',\n",
       "                            'ahi', 'ahora', 'ahí', 'al', 'algo', 'alguna',\n",
       "                            'algunas', 'alguno', 'algunos', 'algún', ...])"
      ]
     },
     "execution_count": 8,
     "metadata": {},
     "output_type": "execute_result"
    }
   ],
   "source": [
    "#\n",
    "\n",
    "vectorizador"
   ]
  },
  {
   "cell_type": "markdown",
   "metadata": {},
   "source": [
    "# Creamos una clase DenseTransformer, que nos permite convertir una matriz dispersa en un array"
   ]
  },
  {
   "cell_type": "code",
   "execution_count": 9,
   "metadata": {},
   "outputs": [],
   "source": [
    "#\n",
    "\n",
    "class DenseTransformer(BaseEstimator):\n",
    "    def __init__(self, return_copy=True):\n",
    "        self.return_copy = return_copy\n",
    "        self.is_fitted = False\n",
    "\n",
    "    def transform(self, X, y=None):\n",
    "        if issparse(X):\n",
    "            return X.toarray()\n",
    "        elif self.return_copy:\n",
    "            return X.copy()\n",
    "        else:\n",
    "            return X\n",
    "\n",
    "    def fit(self, X, y=None):\n",
    "        self.is_fitted = True\n",
    "        return self\n",
    "\n",
    "    def fit_transform(self, X, y=None):\n",
    "        return self.transform(X=X, y=y)"
   ]
  },
  {
   "cell_type": "markdown",
   "metadata": {},
   "source": [
    "# Crear un pipeline que utilice los pasos anteriores, e incluya un clasificador Naive Bayes con distribución Gaussiana\n",
    "\n",
    "En éste paso se crea un pipeline. \n",
    "\n",
    "Lo primero que recibe es el vectorizador que contiene una matriz dispersa que representa cada palabra asignada a cada noticia. \n",
    "\n",
    "Ésta matriz es pasada a DenseTransformer que la convierte a un array. \n",
    "\n",
    "Éste array es pasado a GaussianNB con lo que se crea un clasificador Naive Bayes. \n",
    "\n",
    "Se ajusta el modelo pasando como X (dato de entrada) la descripción de la noticia, y como y (dato de salida) la categoría. \n",
    "\n",
    "Utilizando pickle se guarda el modelo en un archivo que se puede utilizar más adelante. \n",
    "\n",
    "**Éste proceso puede tardar varios minutos.**"
   ]
  },
  {
   "cell_type": "code",
   "execution_count": 10,
   "metadata": {},
   "outputs": [],
   "source": [
    "# \n",
    "\n",
    "pipeline_gaussiano = make_pipeline(\n",
    "    vectorizador,\n",
    "    DenseTransformer(),\n",
    "    GaussianNB()\n",
    ")"
   ]
  },
  {
   "cell_type": "code",
   "execution_count": 11,
   "metadata": {},
   "outputs": [
    {
     "data": {
      "text/html": [
       "<style>#sk-container-id-2 {color: black;background-color: white;}#sk-container-id-2 pre{padding: 0;}#sk-container-id-2 div.sk-toggleable {background-color: white;}#sk-container-id-2 label.sk-toggleable__label {cursor: pointer;display: block;width: 100%;margin-bottom: 0;padding: 0.3em;box-sizing: border-box;text-align: center;}#sk-container-id-2 label.sk-toggleable__label-arrow:before {content: \"▸\";float: left;margin-right: 0.25em;color: #696969;}#sk-container-id-2 label.sk-toggleable__label-arrow:hover:before {color: black;}#sk-container-id-2 div.sk-estimator:hover label.sk-toggleable__label-arrow:before {color: black;}#sk-container-id-2 div.sk-toggleable__content {max-height: 0;max-width: 0;overflow: hidden;text-align: left;background-color: #f0f8ff;}#sk-container-id-2 div.sk-toggleable__content pre {margin: 0.2em;color: black;border-radius: 0.25em;background-color: #f0f8ff;}#sk-container-id-2 input.sk-toggleable__control:checked~div.sk-toggleable__content {max-height: 200px;max-width: 100%;overflow: auto;}#sk-container-id-2 input.sk-toggleable__control:checked~label.sk-toggleable__label-arrow:before {content: \"▾\";}#sk-container-id-2 div.sk-estimator input.sk-toggleable__control:checked~label.sk-toggleable__label {background-color: #d4ebff;}#sk-container-id-2 div.sk-label input.sk-toggleable__control:checked~label.sk-toggleable__label {background-color: #d4ebff;}#sk-container-id-2 input.sk-hidden--visually {border: 0;clip: rect(1px 1px 1px 1px);clip: rect(1px, 1px, 1px, 1px);height: 1px;margin: -1px;overflow: hidden;padding: 0;position: absolute;width: 1px;}#sk-container-id-2 div.sk-estimator {font-family: monospace;background-color: #f0f8ff;border: 1px dotted black;border-radius: 0.25em;box-sizing: border-box;margin-bottom: 0.5em;}#sk-container-id-2 div.sk-estimator:hover {background-color: #d4ebff;}#sk-container-id-2 div.sk-parallel-item::after {content: \"\";width: 100%;border-bottom: 1px solid gray;flex-grow: 1;}#sk-container-id-2 div.sk-label:hover label.sk-toggleable__label {background-color: #d4ebff;}#sk-container-id-2 div.sk-serial::before {content: \"\";position: absolute;border-left: 1px solid gray;box-sizing: border-box;top: 0;bottom: 0;left: 50%;z-index: 0;}#sk-container-id-2 div.sk-serial {display: flex;flex-direction: column;align-items: center;background-color: white;padding-right: 0.2em;padding-left: 0.2em;position: relative;}#sk-container-id-2 div.sk-item {position: relative;z-index: 1;}#sk-container-id-2 div.sk-parallel {display: flex;align-items: stretch;justify-content: center;background-color: white;position: relative;}#sk-container-id-2 div.sk-item::before, #sk-container-id-2 div.sk-parallel-item::before {content: \"\";position: absolute;border-left: 1px solid gray;box-sizing: border-box;top: 0;bottom: 0;left: 50%;z-index: -1;}#sk-container-id-2 div.sk-parallel-item {display: flex;flex-direction: column;z-index: 1;position: relative;background-color: white;}#sk-container-id-2 div.sk-parallel-item:first-child::after {align-self: flex-end;width: 50%;}#sk-container-id-2 div.sk-parallel-item:last-child::after {align-self: flex-start;width: 50%;}#sk-container-id-2 div.sk-parallel-item:only-child::after {width: 0;}#sk-container-id-2 div.sk-dashed-wrapped {border: 1px dashed gray;margin: 0 0.4em 0.5em 0.4em;box-sizing: border-box;padding-bottom: 0.4em;background-color: white;}#sk-container-id-2 div.sk-label label {font-family: monospace;font-weight: bold;display: inline-block;line-height: 1.2em;}#sk-container-id-2 div.sk-label-container {text-align: center;}#sk-container-id-2 div.sk-container {/* jupyter's `normalize.less` sets `[hidden] { display: none; }` but bootstrap.min.css set `[hidden] { display: none !important; }` so we also need the `!important` here to be able to override the default hidden behavior on the sphinx rendered scikit-learn.org. See: https://github.com/scikit-learn/scikit-learn/issues/21755 */display: inline-block !important;position: relative;}#sk-container-id-2 div.sk-text-repr-fallback {display: none;}</style><div id=\"sk-container-id-2\" class=\"sk-top-container\"><div class=\"sk-text-repr-fallback\"><pre>Pipeline(steps=[(&#x27;tfidfvectorizer&#x27;,\n",
       "                 TfidfVectorizer(max_features=50000,\n",
       "                                 stop_words=[&#x27;0&#x27;, &#x27;1&#x27;, &#x27;2&#x27;, &#x27;3&#x27;, &#x27;4&#x27;, &#x27;5&#x27;, &#x27;6&#x27;,\n",
       "                                             &#x27;7&#x27;, &#x27;8&#x27;, &#x27;9&#x27;, &#x27;_&#x27;, &#x27;a&#x27;,\n",
       "                                             &#x27;actualmente&#x27;, &#x27;acuerdo&#x27;,\n",
       "                                             &#x27;adelante&#x27;, &#x27;ademas&#x27;, &#x27;además&#x27;,\n",
       "                                             &#x27;adrede&#x27;, &#x27;afirmó&#x27;, &#x27;agregó&#x27;,\n",
       "                                             &#x27;ahi&#x27;, &#x27;ahora&#x27;, &#x27;ahí&#x27;, &#x27;al&#x27;,\n",
       "                                             &#x27;algo&#x27;, &#x27;alguna&#x27;, &#x27;algunas&#x27;,\n",
       "                                             &#x27;alguno&#x27;, &#x27;algunos&#x27;, &#x27;algún&#x27;, ...])),\n",
       "                (&#x27;densetransformer&#x27;, DenseTransformer()),\n",
       "                (&#x27;gaussiannb&#x27;, GaussianNB())])</pre><b>In a Jupyter environment, please rerun this cell to show the HTML representation or trust the notebook. <br />On GitHub, the HTML representation is unable to render, please try loading this page with nbviewer.org.</b></div><div class=\"sk-container\" hidden><div class=\"sk-item sk-dashed-wrapped\"><div class=\"sk-label-container\"><div class=\"sk-label sk-toggleable\"><input class=\"sk-toggleable__control sk-hidden--visually\" id=\"sk-estimator-id-2\" type=\"checkbox\" ><label for=\"sk-estimator-id-2\" class=\"sk-toggleable__label sk-toggleable__label-arrow\">Pipeline</label><div class=\"sk-toggleable__content\"><pre>Pipeline(steps=[(&#x27;tfidfvectorizer&#x27;,\n",
       "                 TfidfVectorizer(max_features=50000,\n",
       "                                 stop_words=[&#x27;0&#x27;, &#x27;1&#x27;, &#x27;2&#x27;, &#x27;3&#x27;, &#x27;4&#x27;, &#x27;5&#x27;, &#x27;6&#x27;,\n",
       "                                             &#x27;7&#x27;, &#x27;8&#x27;, &#x27;9&#x27;, &#x27;_&#x27;, &#x27;a&#x27;,\n",
       "                                             &#x27;actualmente&#x27;, &#x27;acuerdo&#x27;,\n",
       "                                             &#x27;adelante&#x27;, &#x27;ademas&#x27;, &#x27;además&#x27;,\n",
       "                                             &#x27;adrede&#x27;, &#x27;afirmó&#x27;, &#x27;agregó&#x27;,\n",
       "                                             &#x27;ahi&#x27;, &#x27;ahora&#x27;, &#x27;ahí&#x27;, &#x27;al&#x27;,\n",
       "                                             &#x27;algo&#x27;, &#x27;alguna&#x27;, &#x27;algunas&#x27;,\n",
       "                                             &#x27;alguno&#x27;, &#x27;algunos&#x27;, &#x27;algún&#x27;, ...])),\n",
       "                (&#x27;densetransformer&#x27;, DenseTransformer()),\n",
       "                (&#x27;gaussiannb&#x27;, GaussianNB())])</pre></div></div></div><div class=\"sk-serial\"><div class=\"sk-item\"><div class=\"sk-estimator sk-toggleable\"><input class=\"sk-toggleable__control sk-hidden--visually\" id=\"sk-estimator-id-3\" type=\"checkbox\" ><label for=\"sk-estimator-id-3\" class=\"sk-toggleable__label sk-toggleable__label-arrow\">TfidfVectorizer</label><div class=\"sk-toggleable__content\"><pre>TfidfVectorizer(max_features=50000,\n",
       "                stop_words=[&#x27;0&#x27;, &#x27;1&#x27;, &#x27;2&#x27;, &#x27;3&#x27;, &#x27;4&#x27;, &#x27;5&#x27;, &#x27;6&#x27;, &#x27;7&#x27;, &#x27;8&#x27;, &#x27;9&#x27;,\n",
       "                            &#x27;_&#x27;, &#x27;a&#x27;, &#x27;actualmente&#x27;, &#x27;acuerdo&#x27;, &#x27;adelante&#x27;,\n",
       "                            &#x27;ademas&#x27;, &#x27;además&#x27;, &#x27;adrede&#x27;, &#x27;afirmó&#x27;, &#x27;agregó&#x27;,\n",
       "                            &#x27;ahi&#x27;, &#x27;ahora&#x27;, &#x27;ahí&#x27;, &#x27;al&#x27;, &#x27;algo&#x27;, &#x27;alguna&#x27;,\n",
       "                            &#x27;algunas&#x27;, &#x27;alguno&#x27;, &#x27;algunos&#x27;, &#x27;algún&#x27;, ...])</pre></div></div></div><div class=\"sk-item\"><div class=\"sk-estimator sk-toggleable\"><input class=\"sk-toggleable__control sk-hidden--visually\" id=\"sk-estimator-id-4\" type=\"checkbox\" ><label for=\"sk-estimator-id-4\" class=\"sk-toggleable__label sk-toggleable__label-arrow\">DenseTransformer</label><div class=\"sk-toggleable__content\"><pre>DenseTransformer()</pre></div></div></div><div class=\"sk-item\"><div class=\"sk-estimator sk-toggleable\"><input class=\"sk-toggleable__control sk-hidden--visually\" id=\"sk-estimator-id-5\" type=\"checkbox\" ><label for=\"sk-estimator-id-5\" class=\"sk-toggleable__label sk-toggleable__label-arrow\">GaussianNB</label><div class=\"sk-toggleable__content\"><pre>GaussianNB()</pre></div></div></div></div></div></div></div>"
      ],
      "text/plain": [
       "Pipeline(steps=[('tfidfvectorizer',\n",
       "                 TfidfVectorizer(max_features=50000,\n",
       "                                 stop_words=['0', '1', '2', '3', '4', '5', '6',\n",
       "                                             '7', '8', '9', '_', 'a',\n",
       "                                             'actualmente', 'acuerdo',\n",
       "                                             'adelante', 'ademas', 'además',\n",
       "                                             'adrede', 'afirmó', 'agregó',\n",
       "                                             'ahi', 'ahora', 'ahí', 'al',\n",
       "                                             'algo', 'alguna', 'algunas',\n",
       "                                             'alguno', 'algunos', 'algún', ...])),\n",
       "                ('densetransformer', DenseTransformer()),\n",
       "                ('gaussiannb', GaussianNB())])"
      ]
     },
     "execution_count": 11,
     "metadata": {},
     "output_type": "execute_result"
    }
   ],
   "source": [
    "# Este puede tardar algunos minutos\n",
    "\n",
    "pipeline_gaussiano.fit( X = noticias.descripcion, \n",
    "                        y = noticias.categoria )"
   ]
  },
  {
   "cell_type": "code",
   "execution_count": 12,
   "metadata": {},
   "outputs": [
    {
     "data": {
      "text/plain": [
       "array(['cultura', 'cultura', 'tecnología', ..., 'cultura', 'tecnología',\n",
       "       'ocio'], dtype='<U10')"
      ]
     },
     "execution_count": 12,
     "metadata": {},
     "output_type": "execute_result"
    }
   ],
   "source": [
    "#\n",
    "y_pred = pipeline_gaussiano.predict(noticias.descripcion)\n",
    "\n",
    "y_pred"
   ]
  },
  {
   "cell_type": "code",
   "execution_count": 13,
   "metadata": {},
   "outputs": [
    {
     "data": {
      "text/plain": [
       "0.9606547438617763"
      ]
     },
     "execution_count": 13,
     "metadata": {},
     "output_type": "execute_result"
    }
   ],
   "source": [
    "#\n",
    "\n",
    "accuracy_score(noticias.categoria, y_pred)"
   ]
  },
  {
   "cell_type": "code",
   "execution_count": 14,
   "metadata": {},
   "outputs": [
    {
     "data": {
      "text/plain": [
       "array([[8467,  298,  236],\n",
       "       [   0, 3296,    0],\n",
       "       [   0,  115, 4083]])"
      ]
     },
     "execution_count": 14,
     "metadata": {},
     "output_type": "execute_result"
    }
   ],
   "source": [
    "#\n",
    "\n",
    "cm = confusion_matrix(noticias.categoria, y_pred)\n",
    "\n",
    "cm"
   ]
  },
  {
   "cell_type": "code",
   "execution_count": 15,
   "metadata": {},
   "outputs": [
    {
     "data": {
      "image/png": "[encoded data removed]",
      "text/plain": [
       "<Figure size 432x288 with 2 Axes>"
      ]
     },
     "metadata": {
      "needs_background": "light"
     },
     "output_type": "display_data"
    }
   ],
   "source": [
    "# visualize confusion matrix with seaborn heatmap\n",
    "\n",
    "cm_matrix = pd.DataFrame( data = cm, \n",
    "                          columns = [ 'Actual Cultura', 'Actual Ocio', 'Actual Tecnología' ],\n",
    "                          index = [ 'Predict Cultura', 'Predict Ocio', 'Predict Tecnología' ])\n",
    "\n",
    "sns.heatmap( cm_matrix, annot = True, fmt = 'd', cmap = 'YlGnBu')\n",
    "\n",
    "plt.show()"
   ]
  },
  {
   "cell_type": "code",
   "execution_count": 16,
   "metadata": {},
   "outputs": [
    {
     "name": "stdout",
     "output_type": "stream",
     "text": [
      "              precision    recall  f1-score   support\n",
      "\n",
      "     cultura       1.00      0.94      0.97      9001\n",
      "        ocio       0.89      1.00      0.94      3296\n",
      "  tecnología       0.95      0.97      0.96      4198\n",
      "\n",
      "    accuracy                           0.96     16495\n",
      "   macro avg       0.94      0.97      0.96     16495\n",
      "weighted avg       0.96      0.96      0.96     16495\n",
      "\n"
     ]
    }
   ],
   "source": [
    "#\n",
    "\n",
    "print(classification_report(noticias.categoria, y_pred))"
   ]
  },
  {
   "cell_type": "code",
   "execution_count": 17,
   "metadata": {},
   "outputs": [
    {
     "data": {
      "text/plain": [
       "array(['cultura'], dtype='<U10')"
      ]
     },
     "execution_count": 17,
     "metadata": {},
     "output_type": "execute_result"
    }
   ],
   "source": [
    "# Probemos el modelo\n",
    "# https://www.bbc.com/mundo/articles/cxrkw471wnlo\n",
    "Texto = [ 'En la comunidad científica estábamos atentos a lo conseguido por el equipo de Elon Musk ' \\\n",
    "          'desde que en septiembre de 2023 el organismo competente, la Administración de Alimentos ' \\\n",
    "          'y Medicamentos de los Estados Unidos (FDA), acreditó que el dispositivo podía implantarse ' \\\n",
    "          'en humanos.']\n",
    "\n",
    "pipeline_gaussiano.predict(Texto)"
   ]
  },
  {
   "cell_type": "code",
   "execution_count": 18,
   "metadata": {},
   "outputs": [
    {
     "data": {
      "text/plain": [
       "array(['cultura'], dtype='<U10')"
      ]
     },
     "execution_count": 18,
     "metadata": {},
     "output_type": "execute_result"
    }
   ],
   "source": [
    "# Probemos el modelo\n",
    "# https://www.eleconomista.com.mx/tecnologia/La-UE-abre-investigacion-contra-TikTok-por-violacion-a-normas-de-proteccion-a-menores-20240219-0034.html\n",
    "Texto = [ 'La investigación formal se centrará en cuatro áreas: la forma en que TikTok evalúa y ' \\\n",
    "          'mitiga los riesgos sistémicos; cumplimiento con la protección de la privacidad y seguridad ' \\\n",
    "          'de los menores edad; emisión de publicidad \"confiable\", y medidas adoptadas para aumentar la ' \\\n",
    "          'transparencia.' ]\n",
    "\n",
    "pipeline_gaussiano.predict(Texto)"
   ]
  },
  {
   "cell_type": "code",
   "execution_count": 19,
   "metadata": {},
   "outputs": [
    {
     "name": "stdout",
     "output_type": "stream",
     "text": [
      "Modelo Creado\n"
     ]
    }
   ],
   "source": [
    "#\n",
    "\n",
    "pickle.dump( pipeline_gaussiano, \n",
    "             open(\"naive_noticias_model.pickle\", \"wb\") )\n",
    "\n",
    "print (\"Modelo Creado\")"
   ]
  },
  {
   "cell_type": "markdown",
   "metadata": {},
   "source": [
    "# Uso del modelo creado\n",
    "\n",
    "Una vez creado nuestro modelo, podemos utilizarlo para clasificar una o miles de noticias.\n",
    "\n",
    "Lo probamos cargando el modelo creado en archivo pickle y dandole una noticia. \n",
    "\n",
    "El resultado es la categoría en la que el clasificador pone a la noticia que introducimos."
   ]
  },
  {
   "cell_type": "code",
   "execution_count": 20,
   "metadata": {},
   "outputs": [],
   "source": [
    "# Dependencies\n",
    "\n",
    "import pickle\n",
    "from sklearn.base import BaseEstimator\n",
    "from scipy.sparse import issparse"
   ]
  },
  {
   "cell_type": "code",
   "execution_count": 21,
   "metadata": {},
   "outputs": [],
   "source": [
    "# Creamos una clase DenseTransformer, que nos permite convertir una matriz dispersa en un array\n",
    "\n",
    "class DenseTransformer(BaseEstimator):\n",
    "    def __init__(self, return_copy=True):\n",
    "        self.return_copy = return_copy\n",
    "        self.is_fitted = False\n",
    "\n",
    "    def transform(self, X, y=None):\n",
    "        if issparse(X):\n",
    "            return X.toarray()\n",
    "        elif self.return_copy:\n",
    "            return X.copy()\n",
    "        else:\n",
    "            return X\n",
    "\n",
    "    def fit(self, X, y=None):\n",
    "        self.is_fitted = True\n",
    "        return self\n",
    "\n",
    "    def fit_transform(self, X, y=None):\n",
    "        return self.transform(X=X, y=y)"
   ]
  },
  {
   "cell_type": "code",
   "execution_count": 22,
   "metadata": {},
   "outputs": [
    {
     "data": {
      "text/html": [
       "<style>#sk-container-id-3 {color: black;background-color: white;}#sk-container-id-3 pre{padding: 0;}#sk-container-id-3 div.sk-toggleable {background-color: white;}#sk-container-id-3 label.sk-toggleable__label {cursor: pointer;display: block;width: 100%;margin-bottom: 0;padding: 0.3em;box-sizing: border-box;text-align: center;}#sk-container-id-3 label.sk-toggleable__label-arrow:before {content: \"▸\";float: left;margin-right: 0.25em;color: #696969;}#sk-container-id-3 label.sk-toggleable__label-arrow:hover:before {color: black;}#sk-container-id-3 div.sk-estimator:hover label.sk-toggleable__label-arrow:before {color: black;}#sk-container-id-3 div.sk-toggleable__content {max-height: 0;max-width: 0;overflow: hidden;text-align: left;background-color: #f0f8ff;}#sk-container-id-3 div.sk-toggleable__content pre {margin: 0.2em;color: black;border-radius: 0.25em;background-color: #f0f8ff;}#sk-container-id-3 input.sk-toggleable__control:checked~div.sk-toggleable__content {max-height: 200px;max-width: 100%;overflow: auto;}#sk-container-id-3 input.sk-toggleable__control:checked~label.sk-toggleable__label-arrow:before {content: \"▾\";}#sk-container-id-3 div.sk-estimator input.sk-toggleable__control:checked~label.sk-toggleable__label {background-color: #d4ebff;}#sk-container-id-3 div.sk-label input.sk-toggleable__control:checked~label.sk-toggleable__label {background-color: #d4ebff;}#sk-container-id-3 input.sk-hidden--visually {border: 0;clip: rect(1px 1px 1px 1px);clip: rect(1px, 1px, 1px, 1px);height: 1px;margin: -1px;overflow: hidden;padding: 0;position: absolute;width: 1px;}#sk-container-id-3 div.sk-estimator {font-family: monospace;background-color: #f0f8ff;border: 1px dotted black;border-radius: 0.25em;box-sizing: border-box;margin-bottom: 0.5em;}#sk-container-id-3 div.sk-estimator:hover {background-color: #d4ebff;}#sk-container-id-3 div.sk-parallel-item::after {content: \"\";width: 100%;border-bottom: 1px solid gray;flex-grow: 1;}#sk-container-id-3 div.sk-label:hover label.sk-toggleable__label {background-color: #d4ebff;}#sk-container-id-3 div.sk-serial::before {content: \"\";position: absolute;border-left: 1px solid gray;box-sizing: border-box;top: 0;bottom: 0;left: 50%;z-index: 0;}#sk-container-id-3 div.sk-serial {display: flex;flex-direction: column;align-items: center;background-color: white;padding-right: 0.2em;padding-left: 0.2em;position: relative;}#sk-container-id-3 div.sk-item {position: relative;z-index: 1;}#sk-container-id-3 div.sk-parallel {display: flex;align-items: stretch;justify-content: center;background-color: white;position: relative;}#sk-container-id-3 div.sk-item::before, #sk-container-id-3 div.sk-parallel-item::before {content: \"\";position: absolute;border-left: 1px solid gray;box-sizing: border-box;top: 0;bottom: 0;left: 50%;z-index: -1;}#sk-container-id-3 div.sk-parallel-item {display: flex;flex-direction: column;z-index: 1;position: relative;background-color: white;}#sk-container-id-3 div.sk-parallel-item:first-child::after {align-self: flex-end;width: 50%;}#sk-container-id-3 div.sk-parallel-item:last-child::after {align-self: flex-start;width: 50%;}#sk-container-id-3 div.sk-parallel-item:only-child::after {width: 0;}#sk-container-id-3 div.sk-dashed-wrapped {border: 1px dashed gray;margin: 0 0.4em 0.5em 0.4em;box-sizing: border-box;padding-bottom: 0.4em;background-color: white;}#sk-container-id-3 div.sk-label label {font-family: monospace;font-weight: bold;display: inline-block;line-height: 1.2em;}#sk-container-id-3 div.sk-label-container {text-align: center;}#sk-container-id-3 div.sk-container {/* jupyter's `normalize.less` sets `[hidden] { display: none; }` but bootstrap.min.css set `[hidden] { display: none !important; }` so we also need the `!important` here to be able to override the default hidden behavior on the sphinx rendered scikit-learn.org. See: https://github.com/scikit-learn/scikit-learn/issues/21755 */display: inline-block !important;position: relative;}#sk-container-id-3 div.sk-text-repr-fallback {display: none;}</style><div id=\"sk-container-id-3\" class=\"sk-top-container\"><div class=\"sk-text-repr-fallback\"><pre>Pipeline(steps=[(&#x27;tfidfvectorizer&#x27;,\n",
       "                 TfidfVectorizer(max_features=50000,\n",
       "                                 stop_words=[&#x27;0&#x27;, &#x27;1&#x27;, &#x27;2&#x27;, &#x27;3&#x27;, &#x27;4&#x27;, &#x27;5&#x27;, &#x27;6&#x27;,\n",
       "                                             &#x27;7&#x27;, &#x27;8&#x27;, &#x27;9&#x27;, &#x27;_&#x27;, &#x27;a&#x27;,\n",
       "                                             &#x27;actualmente&#x27;, &#x27;acuerdo&#x27;,\n",
       "                                             &#x27;adelante&#x27;, &#x27;ademas&#x27;, &#x27;además&#x27;,\n",
       "                                             &#x27;adrede&#x27;, &#x27;afirmó&#x27;, &#x27;agregó&#x27;,\n",
       "                                             &#x27;ahi&#x27;, &#x27;ahora&#x27;, &#x27;ahí&#x27;, &#x27;al&#x27;,\n",
       "                                             &#x27;algo&#x27;, &#x27;alguna&#x27;, &#x27;algunas&#x27;,\n",
       "                                             &#x27;alguno&#x27;, &#x27;algunos&#x27;, &#x27;algún&#x27;, ...])),\n",
       "                (&#x27;densetransformer&#x27;, DenseTransformer()),\n",
       "                (&#x27;gaussiannb&#x27;, GaussianNB())])</pre><b>In a Jupyter environment, please rerun this cell to show the HTML representation or trust the notebook. <br />On GitHub, the HTML representation is unable to render, please try loading this page with nbviewer.org.</b></div><div class=\"sk-container\" hidden><div class=\"sk-item sk-dashed-wrapped\"><div class=\"sk-label-container\"><div class=\"sk-label sk-toggleable\"><input class=\"sk-toggleable__control sk-hidden--visually\" id=\"sk-estimator-id-6\" type=\"checkbox\" ><label for=\"sk-estimator-id-6\" class=\"sk-toggleable__label sk-toggleable__label-arrow\">Pipeline</label><div class=\"sk-toggleable__content\"><pre>Pipeline(steps=[(&#x27;tfidfvectorizer&#x27;,\n",
       "                 TfidfVectorizer(max_features=50000,\n",
       "                                 stop_words=[&#x27;0&#x27;, &#x27;1&#x27;, &#x27;2&#x27;, &#x27;3&#x27;, &#x27;4&#x27;, &#x27;5&#x27;, &#x27;6&#x27;,\n",
       "                                             &#x27;7&#x27;, &#x27;8&#x27;, &#x27;9&#x27;, &#x27;_&#x27;, &#x27;a&#x27;,\n",
       "                                             &#x27;actualmente&#x27;, &#x27;acuerdo&#x27;,\n",
       "                                             &#x27;adelante&#x27;, &#x27;ademas&#x27;, &#x27;además&#x27;,\n",
       "                                             &#x27;adrede&#x27;, &#x27;afirmó&#x27;, &#x27;agregó&#x27;,\n",
       "                                             &#x27;ahi&#x27;, &#x27;ahora&#x27;, &#x27;ahí&#x27;, &#x27;al&#x27;,\n",
       "                                             &#x27;algo&#x27;, &#x27;alguna&#x27;, &#x27;algunas&#x27;,\n",
       "                                             &#x27;alguno&#x27;, &#x27;algunos&#x27;, &#x27;algún&#x27;, ...])),\n",
       "                (&#x27;densetransformer&#x27;, DenseTransformer()),\n",
       "                (&#x27;gaussiannb&#x27;, GaussianNB())])</pre></div></div></div><div class=\"sk-serial\"><div class=\"sk-item\"><div class=\"sk-estimator sk-toggleable\"><input class=\"sk-toggleable__control sk-hidden--visually\" id=\"sk-estimator-id-7\" type=\"checkbox\" ><label for=\"sk-estimator-id-7\" class=\"sk-toggleable__label sk-toggleable__label-arrow\">TfidfVectorizer</label><div class=\"sk-toggleable__content\"><pre>TfidfVectorizer(max_features=50000,\n",
       "                stop_words=[&#x27;0&#x27;, &#x27;1&#x27;, &#x27;2&#x27;, &#x27;3&#x27;, &#x27;4&#x27;, &#x27;5&#x27;, &#x27;6&#x27;, &#x27;7&#x27;, &#x27;8&#x27;, &#x27;9&#x27;,\n",
       "                            &#x27;_&#x27;, &#x27;a&#x27;, &#x27;actualmente&#x27;, &#x27;acuerdo&#x27;, &#x27;adelante&#x27;,\n",
       "                            &#x27;ademas&#x27;, &#x27;además&#x27;, &#x27;adrede&#x27;, &#x27;afirmó&#x27;, &#x27;agregó&#x27;,\n",
       "                            &#x27;ahi&#x27;, &#x27;ahora&#x27;, &#x27;ahí&#x27;, &#x27;al&#x27;, &#x27;algo&#x27;, &#x27;alguna&#x27;,\n",
       "                            &#x27;algunas&#x27;, &#x27;alguno&#x27;, &#x27;algunos&#x27;, &#x27;algún&#x27;, ...])</pre></div></div></div><div class=\"sk-item\"><div class=\"sk-estimator sk-toggleable\"><input class=\"sk-toggleable__control sk-hidden--visually\" id=\"sk-estimator-id-8\" type=\"checkbox\" ><label for=\"sk-estimator-id-8\" class=\"sk-toggleable__label sk-toggleable__label-arrow\">DenseTransformer</label><div class=\"sk-toggleable__content\"><pre>DenseTransformer()</pre></div></div></div><div class=\"sk-item\"><div class=\"sk-estimator sk-toggleable\"><input class=\"sk-toggleable__control sk-hidden--visually\" id=\"sk-estimator-id-9\" type=\"checkbox\" ><label for=\"sk-estimator-id-9\" class=\"sk-toggleable__label sk-toggleable__label-arrow\">GaussianNB</label><div class=\"sk-toggleable__content\"><pre>GaussianNB()</pre></div></div></div></div></div></div></div>"
      ],
      "text/plain": [
       "Pipeline(steps=[('tfidfvectorizer',\n",
       "                 TfidfVectorizer(max_features=50000,\n",
       "                                 stop_words=['0', '1', '2', '3', '4', '5', '6',\n",
       "                                             '7', '8', '9', '_', 'a',\n",
       "                                             'actualmente', 'acuerdo',\n",
       "                                             'adelante', 'ademas', 'además',\n",
       "                                             'adrede', 'afirmó', 'agregó',\n",
       "                                             'ahi', 'ahora', 'ahí', 'al',\n",
       "                                             'algo', 'alguna', 'algunas',\n",
       "                                             'alguno', 'algunos', 'algún', ...])),\n",
       "                ('densetransformer', DenseTransformer()),\n",
       "                ('gaussiannb', GaussianNB())])"
      ]
     },
     "execution_count": 22,
     "metadata": {},
     "output_type": "execute_result"
    }
   ],
   "source": [
    "# Abrimos el modelo\n",
    "\n",
    "pipeline_gaussiano = pickle.load(open(\"naive_noticias_model.pickle\", \"rb\"))\n",
    "\n",
    "pipeline_gaussiano"
   ]
  },
  {
   "cell_type": "code",
   "execution_count": 23,
   "metadata": {},
   "outputs": [],
   "source": [
    "#\n",
    "\n",
    "n1 = [ \"¿Cansado de que te roben Internet? Aqui puedes darte cuenta de quienes tienen tu wifi\" ]\n",
    "n2 = [ \"Los cineastas mexicanos se unen para crear un fondo de emergencia ante la contingencia sanitaria\" ]\n",
    "n3 = [ \"10 películas y series de terror en Netflix para ver este fin de semana\" ]\n",
    "\n",
    "r1 = pipeline_gaussiano.predict( n1 )\n",
    "r2 = pipeline_gaussiano.predict( n2 )\n",
    "r3 = pipeline_gaussiano.predict( n3 )"
   ]
  },
  {
   "cell_type": "code",
   "execution_count": 24,
   "metadata": {},
   "outputs": [
    {
     "name": "stdout",
     "output_type": "stream",
     "text": [
      "=====================\n",
      "Noticia: ['¿Cansado de que te roben Internet? Aqui puedes darte cuenta de quienes tienen tu wifi']\n",
      "Categoría probable: ['tecnología']\n",
      "Noticia: ['Los cineastas mexicanos se unen para crear un fondo de emergencia ante la contingencia sanitaria']\n",
      "Categoría probable: ['cultura']\n",
      "Noticia: ['10 películas y series de terror en Netflix para ver este fin de semana']\n",
      "Categoría probable: ['ocio']\n"
     ]
    }
   ],
   "source": [
    "#\n",
    "\n",
    "print (\"=====================\")\n",
    "print (\"Noticia: \" + str(n1))\n",
    "print (\"Categoría probable: \" + str(r1))\n",
    "print (\"Noticia: \" + str(n2))\n",
    "print (\"Categoría probable: \" + str(r2))\n",
    "print (\"Noticia: \" + str(n3))\n",
    "print (\"Categoría probable: \" + str(r3))"
   ]
  },
  {
   "cell_type": "code",
   "execution_count": null,
   "metadata": {},
   "outputs": [],
   "source": []
  },
  {
   "cell_type": "code",
   "execution_count": null,
   "metadata": {},
   "outputs": [],
   "source": []
  },
  {
   "cell_type": "code",
   "execution_count": null,
   "metadata": {},
   "outputs": [],
   "source": []
  }
 ],
 "metadata": {
  "kernelspec": {
   "display_name": "Python 3 (ipykernel)",
   "language": "python",
   "name": "python3"
  },
  "language_info": {
   "codemirror_mode": {
    "name": "ipython",
    "version": 3
   },
   "file_extension": ".py",
   "mimetype": "text/x-python",
   "name": "python",
   "nbconvert_exporter": "python",
   "pygments_lexer": "ipython3",
   "version": "3.10.4"
  }
 },
 "nbformat": 4,
 "nbformat_minor": 4
}
